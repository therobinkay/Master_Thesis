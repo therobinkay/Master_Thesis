{
  "nbformat": 4,
  "nbformat_minor": 0,
  "metadata": {
    "colab": {
      "name": "Analysis1 (GitHub)",
      "provenance": [],
      "collapsed_sections": [
        "-1GbVs6QSs1-",
        "2tgeiCZLz1-O",
        "Xg3b_eYxE_O9",
        "zBF0NSSIE_n_",
        "DVoglDodE_78",
        "EQ2tBvqs3AFI",
        "EnGw0fr0xeG3",
        "BtdgXWkTSIuA",
        "30cbBLlampqP",
        "6ECkPN6be17s",
        "DfrbUoNgQKVS"
      ],
      "machine_shape": "hm"
    },
    "kernelspec": {
      "name": "python3",
      "display_name": "Python 3"
    }
  },
  "cells": [
    {
      "cell_type": "code",
      "metadata": {
        "id": "8OfzAmkpGOjF",
        "colab_type": "code",
        "colab": {}
      },
      "source": [
        "import io\n",
        "import pandas as pd\n",
        "import os\n",
        "import itertools\n",
        "import numpy as np\n",
        "import scipy.stats\n",
        "import time\n",
        "\n",
        "import matplotlib.pyplot as plt\n",
        "import seaborn as sns\n",
        "\n",
        "from tqdm import tqdm\n",
        "\n",
        "import networkx as nx\n",
        "import random"
      ],
      "execution_count": 0,
      "outputs": []
    },
    {
      "cell_type": "code",
      "metadata": {
        "id": "oh34V3C2xV0h",
        "colab_type": "code",
        "colab": {}
      },
      "source": [
        "data = pd.read_csv(\"data.csv\")\n",
        "dp = pd.read_csv(\"doipacs.csv\")\n",
        "cdata = pd.read_csv('cdata.csv')\n",
        "cb = pd.read_csv(\"citationBara.csv\")\n",
        "cen = pd.read_csv(\"cen.csv\")"
      ],
      "execution_count": 0,
      "outputs": []
    },
    {
      "cell_type": "markdown",
      "metadata": {
        "id": "houN_SJKGhco",
        "colab_type": "text"
      },
      "source": [
        "# Analyses\n"
      ]
    },
    {
      "cell_type": "markdown",
      "metadata": {
        "id": "-1GbVs6QSs1-",
        "colab_type": "text"
      },
      "source": [
        "## 1. Order of Author Analysis"
      ]
    },
    {
      "cell_type": "code",
      "metadata": {
        "id": "hNfwR1wTinid",
        "colab_type": "code",
        "outputId": "1b5f16e4-558b-40c7-b938-9a9bc4863184",
        "colab": {
          "base_uri": "https://localhost:8080/",
          "height": 237
        }
      },
      "source": [
        "aa = data[data['is_alpha'] == False]\n",
        "print(len(aa))\n",
        "print(aa['doi'].nunique())\n",
        "aa.head()"
      ],
      "execution_count": 0,
      "outputs": [
        {
          "output_type": "stream",
          "text": [
            "252444\n",
            "503297\n"
          ],
          "name": "stdout"
        },
        {
          "output_type": "execute_result",
          "data": {
            "text/html": [
              "<div>\n",
              "<style scoped>\n",
              "    .dataframe tbody tr th:only-of-type {\n",
              "        vertical-align: middle;\n",
              "    }\n",
              "\n",
              "    .dataframe tbody tr th {\n",
              "        vertical-align: top;\n",
              "    }\n",
              "\n",
              "    .dataframe thead th {\n",
              "        text-align: right;\n",
              "    }\n",
              "</style>\n",
              "<table border=\"1\" class=\"dataframe\">\n",
              "  <thead>\n",
              "    <tr style=\"text-align: right;\">\n",
              "      <th></th>\n",
              "      <th>doi</th>\n",
              "      <th>id</th>\n",
              "      <th>gender</th>\n",
              "      <th>order</th>\n",
              "      <th>numAuthor</th>\n",
              "      <th>is_last</th>\n",
              "      <th>is_alpha</th>\n",
              "      <th>year</th>\n",
              "      <th>articleType</th>\n",
              "      <th>journal</th>\n",
              "    </tr>\n",
              "  </thead>\n",
              "  <tbody>\n",
              "    <tr>\n",
              "      <th>0</th>\n",
              "      <td>10.1103/PhysRevSeriesI.17.267</td>\n",
              "      <td>127898</td>\n",
              "      <td>male</td>\n",
              "      <td>2</td>\n",
              "      <td>2</td>\n",
              "      <td>True</td>\n",
              "      <td>False</td>\n",
              "      <td>1903</td>\n",
              "      <td>article</td>\n",
              "      <td>PRI</td>\n",
              "    </tr>\n",
              "    <tr>\n",
              "      <th>1</th>\n",
              "      <td>10.1103/PhysRev.5.269</td>\n",
              "      <td>127898</td>\n",
              "      <td>male</td>\n",
              "      <td>3</td>\n",
              "      <td>3</td>\n",
              "      <td>True</td>\n",
              "      <td>False</td>\n",
              "      <td>1915</td>\n",
              "      <td>article</td>\n",
              "      <td>PR</td>\n",
              "    </tr>\n",
              "    <tr>\n",
              "      <th>2</th>\n",
              "      <td>10.1103/PhysRevSeriesI.16.279</td>\n",
              "      <td>127898</td>\n",
              "      <td>male</td>\n",
              "      <td>2</td>\n",
              "      <td>2</td>\n",
              "      <td>True</td>\n",
              "      <td>False</td>\n",
              "      <td>1903</td>\n",
              "      <td>article</td>\n",
              "      <td>PRI</td>\n",
              "    </tr>\n",
              "    <tr>\n",
              "      <th>3</th>\n",
              "      <td>10.1103/PhysRevSeriesI.16.279</td>\n",
              "      <td>59048</td>\n",
              "      <td>male</td>\n",
              "      <td>1</td>\n",
              "      <td>2</td>\n",
              "      <td>False</td>\n",
              "      <td>False</td>\n",
              "      <td>1903</td>\n",
              "      <td>article</td>\n",
              "      <td>PRI</td>\n",
              "    </tr>\n",
              "    <tr>\n",
              "      <th>4</th>\n",
              "      <td>10.1103/PhysRevSeriesI.5.294</td>\n",
              "      <td>9710</td>\n",
              "      <td>male</td>\n",
              "      <td>1</td>\n",
              "      <td>2</td>\n",
              "      <td>False</td>\n",
              "      <td>False</td>\n",
              "      <td>1897</td>\n",
              "      <td>article</td>\n",
              "      <td>PRI</td>\n",
              "    </tr>\n",
              "  </tbody>\n",
              "</table>\n",
              "</div>"
            ],
            "text/plain": [
              "                             doi      id gender  ...  year  articleType  journal\n",
              "0  10.1103/PhysRevSeriesI.17.267  127898   male  ...  1903      article      PRI\n",
              "1          10.1103/PhysRev.5.269  127898   male  ...  1915      article       PR\n",
              "2  10.1103/PhysRevSeriesI.16.279  127898   male  ...  1903      article      PRI\n",
              "3  10.1103/PhysRevSeriesI.16.279   59048   male  ...  1903      article      PRI\n",
              "4   10.1103/PhysRevSeriesI.5.294    9710   male  ...  1897      article      PRI\n",
              "\n",
              "[5 rows x 10 columns]"
            ]
          },
          "metadata": {
            "tags": []
          },
          "execution_count": 5
        }
      ]
    },
    {
      "cell_type": "code",
      "metadata": {
        "id": "oEA3b5p85pnP",
        "colab_type": "code",
        "outputId": "61880589-9c10-4599-d377-e62a165767ff",
        "colab": {
          "base_uri": "https://localhost:8080/",
          "height": 69
        }
      },
      "source": [
        "aa_u = aa['id'].unique()\n",
        "print(len(aa_u))\n",
        "\n",
        "aa_m = aa[aa['gender'] == 'male']\n",
        "print(aa_m['id'].nunique())\n",
        "\n",
        "aa_fm = aa[aa['gender'] == 'female']\n",
        "print(aa_fm['id'].nunique())"
      ],
      "execution_count": 0,
      "outputs": [
        {
          "output_type": "stream",
          "text": [
            "69578\n",
            "59842\n",
            "9736\n"
          ],
          "name": "stdout"
        }
      ]
    },
    {
      "cell_type": "code",
      "metadata": {
        "id": "7Cei-bgbvJQZ",
        "colab_type": "code",
        "outputId": "dacdedc1-cf0f-4913-de81-a0f33cb30d6c",
        "colab": {
          "base_uri": "https://localhost:8080/",
          "height": 87
        }
      },
      "source": [
        "first = aa[aa['order'] == 1]\n",
        "print(len(first))\n",
        "\n",
        "second = aa[aa['order'] == 2]\n",
        "second = second[second['is_last'] == False]\n",
        "print(len(second))\n",
        "\n",
        "middle = aa[aa['order'] > 2]\n",
        "middle = middle[middle['is_last'] == False]\n",
        "print(len(middle))\n",
        "\n",
        "last = aa[aa['order'] != 1]\n",
        "last = last[last['is_last'] == True]\n",
        "print(len(last))"
      ],
      "execution_count": 0,
      "outputs": [
        {
          "output_type": "stream",
          "text": [
            "149627\n",
            "87869\n",
            "115619\n",
            "150182\n"
          ],
          "name": "stdout"
        }
      ]
    },
    {
      "cell_type": "code",
      "metadata": {
        "id": "98K2gc3avZe6",
        "colab_type": "code",
        "outputId": "5e7b34bb-4afa-40e1-c543-c0de014c35e1",
        "colab": {
          "base_uri": "https://localhost:8080/",
          "height": 87
        }
      },
      "source": [
        "first_m = first[first['gender'] == 'male']\n",
        "print(len(first_m))\n",
        "\n",
        "second_m = second[second['gender'] == 'male']\n",
        "print(len(second_m))\n",
        "\n",
        "middle_m = middle[middle['gender'] == 'male']\n",
        "print(len(middle_m))\n",
        "\n",
        "last_m = last[last['gender'] == 'male']\n",
        "print(len(last_m))"
      ],
      "execution_count": 0,
      "outputs": [
        {
          "output_type": "stream",
          "text": [
            "137223\n",
            "80073\n",
            "104827\n",
            "137412\n"
          ],
          "name": "stdout"
        }
      ]
    },
    {
      "cell_type": "code",
      "metadata": {
        "id": "F6P_jZmgvc_i",
        "colab_type": "code",
        "outputId": "2c29f0bf-d71f-4298-81f7-7a16bfa6b5e1",
        "colab": {
          "base_uri": "https://localhost:8080/",
          "height": 87
        }
      },
      "source": [
        "first_fm = first[first['gender'] == 'female']\n",
        "print(len(first_fm))\n",
        "\n",
        "second_fm = second[second['gender'] == 'female']\n",
        "print(len(second_fm))\n",
        "\n",
        "middle_fm = middle[middle['gender'] == 'female']\n",
        "print(len(middle_fm))\n",
        "\n",
        "last_fm = last[last['gender'] == 'female']\n",
        "print(len(last_fm))"
      ],
      "execution_count": 0,
      "outputs": [
        {
          "output_type": "stream",
          "text": [
            "12404\n",
            "7796\n",
            "10792\n",
            "12770\n"
          ],
          "name": "stdout"
        }
      ]
    },
    {
      "cell_type": "code",
      "metadata": {
        "id": "SAwdpIvjvpkQ",
        "colab_type": "code",
        "outputId": "4854db9f-cde1-4b3b-e067-8e11fffaa6f9",
        "colab": {
          "base_uri": "https://localhost:8080/",
          "height": 87
        }
      },
      "source": [
        "print(len(first_m) / len(first))\n",
        "print(len(second_m) / len(second))\n",
        "print(len(middle_m) / len(middle))\n",
        "print(len(last_m) / len(last))"
      ],
      "execution_count": 0,
      "outputs": [
        {
          "output_type": "stream",
          "text": [
            "0.9171005233012759\n",
            "0.9112770146468038\n",
            "0.9066589401395965\n",
            "0.9149698365982608\n"
          ],
          "name": "stdout"
        }
      ]
    },
    {
      "cell_type": "code",
      "metadata": {
        "id": "M9cBz0T8vlqV",
        "colab_type": "code",
        "outputId": "fe326fb5-b07c-40ce-b187-eac0e374e0b4",
        "colab": {
          "base_uri": "https://localhost:8080/",
          "height": 87
        }
      },
      "source": [
        "print(len(first_fm) / len(first))\n",
        "print(len(second_fm) / len(second))\n",
        "print(len(middle_fm) / len(middle))\n",
        "print(len(last_fm) / len(last))"
      ],
      "execution_count": 0,
      "outputs": [
        {
          "output_type": "stream",
          "text": [
            "0.08289947669872416\n",
            "0.08872298535319624\n",
            "0.09334105986040357\n",
            "0.08503016340173922\n"
          ],
          "name": "stdout"
        }
      ]
    },
    {
      "cell_type": "code",
      "metadata": {
        "id": "b0XEqRAnq5Yq",
        "colab_type": "code",
        "outputId": "359a33f1-af10-4ae3-8307-6fb72ddb6592",
        "colab": {
          "base_uri": "https://localhost:8080/",
          "height": 87
        }
      },
      "source": [
        "print(first['id'].nunique())\n",
        "print(second['id'].nunique())\n",
        "print(middle['id'].nunique())\n",
        "print(last['id'].nunique())"
      ],
      "execution_count": 0,
      "outputs": [
        {
          "output_type": "stream",
          "text": [
            "32827\n",
            "27775\n",
            "26557\n",
            "32687\n"
          ],
          "name": "stdout"
        }
      ]
    },
    {
      "cell_type": "code",
      "metadata": {
        "id": "xQRDvzDTFW4F",
        "colab_type": "code",
        "outputId": "420c5a6c-9531-4670-95ba-d8eef831b7f7",
        "colab": {
          "base_uri": "https://localhost:8080/",
          "height": 87
        }
      },
      "source": [
        "print(first_m['id'].nunique())\n",
        "print(second_m['id'].nunique())\n",
        "print(middle_m['id'].nunique())\n",
        "print(last_m['id'].nunique())"
      ],
      "execution_count": 0,
      "outputs": [
        {
          "output_type": "stream",
          "text": [
            "28848\n",
            "24494\n",
            "23249\n",
            "28643\n"
          ],
          "name": "stdout"
        }
      ]
    },
    {
      "cell_type": "code",
      "metadata": {
        "id": "rebReAWdq4LL",
        "colab_type": "code",
        "outputId": "0b6c6f45-a244-440b-b967-a74925d64793",
        "colab": {
          "base_uri": "https://localhost:8080/",
          "height": 87
        }
      },
      "source": [
        "print(first_fm['id'].nunique())\n",
        "print(second_fm['id'].nunique())\n",
        "print(middle_fm['id'].nunique())\n",
        "print(last_fm['id'].nunique())"
      ],
      "execution_count": 0,
      "outputs": [
        {
          "output_type": "stream",
          "text": [
            "3979\n",
            "3281\n",
            "3308\n",
            "4044\n"
          ],
          "name": "stdout"
        }
      ]
    },
    {
      "cell_type": "code",
      "metadata": {
        "id": "BPes4qFyszAw",
        "colab_type": "code",
        "outputId": "d6760e92-15c0-47c1-c054-799e385629bc",
        "colab": {
          "base_uri": "https://localhost:8080/",
          "height": 87
        }
      },
      "source": [
        "print(first_m['id'].nunique() / first['id'].nunique())\n",
        "print(second_m['id'].nunique() / second['id'].nunique())\n",
        "print(middle_m['id'].nunique() / middle['id'].nunique())\n",
        "print(last_m['id'].nunique() / last['id'].nunique())"
      ],
      "execution_count": 0,
      "outputs": [
        {
          "output_type": "stream",
          "text": [
            "0.8787888019008743\n",
            "0.8818721872187218\n",
            "0.875437737696276\n",
            "0.8762810903417261\n"
          ],
          "name": "stdout"
        }
      ]
    },
    {
      "cell_type": "code",
      "metadata": {
        "id": "-vtbkf3etCwN",
        "colab_type": "code",
        "outputId": "a6fdc720-3580-4130-dfeb-0485e9bb2432",
        "colab": {
          "base_uri": "https://localhost:8080/",
          "height": 87
        }
      },
      "source": [
        "print(first_fm['id'].nunique() / first['id'].nunique())\n",
        "print(second_fm['id'].nunique() / second['id'].nunique())\n",
        "print(middle_fm['id'].nunique() / middle['id'].nunique())\n",
        "print(last_fm['id'].nunique() / last['id'].nunique())"
      ],
      "execution_count": 0,
      "outputs": [
        {
          "output_type": "stream",
          "text": [
            "0.12121119809912571\n",
            "0.11812781278127812\n",
            "0.12456226230372407\n",
            "0.12371890965827394\n"
          ],
          "name": "stdout"
        }
      ]
    },
    {
      "cell_type": "code",
      "metadata": {
        "id": "uOwxrxnXtMFJ",
        "colab_type": "code",
        "colab": {}
      },
      "source": [
        "del first\n",
        "del second\n",
        "del middle\n",
        "del last\n",
        "del first_m\n",
        "del second_m\n",
        "del middle_m\n",
        "del last_m\n",
        "del first_fm\n",
        "del second_fm\n",
        "del middle_fm\n",
        "del last_fm"
      ],
      "execution_count": 0,
      "outputs": []
    },
    {
      "cell_type": "markdown",
      "metadata": {
        "id": "2tgeiCZLz1-O",
        "colab_type": "text"
      },
      "source": [
        "## 2'. Preliminary Productivity Graphs"
      ]
    },
    {
      "cell_type": "code",
      "metadata": {
        "id": "rXH-dqjez8lk",
        "colab_type": "code",
        "outputId": "35b49404-7aa0-441d-cfd7-4d7b48dcb047",
        "colab": {
          "base_uri": "https://localhost:8080/",
          "height": 313
        }
      },
      "source": [
        "subdata = data.drop(['order','doi','numAuthor','is_last','is_alpha','articleType','journal'],axis=1)\n",
        "\n",
        "hier_subdata = subdata.groupby(['gender', 'year']).count()\n",
        "count_author = subdata.groupby(['gender', 'year'])['id'].nunique()\n",
        "\n",
        "male = hier_subdata.xs('male')['id']/count_author.xs('male')\n",
        "female = hier_subdata.xs('female')['id']/count_author.xs('female')\n",
        "\n",
        "plt.figure(1)\n",
        "\n",
        "male.plot(style ='.-')\n",
        "female.plot(style='.-')\n",
        "\n",
        "plt.legend(['male', 'female'], loc='upper left')\n",
        "plt.title('Average Number of Papers Published by Year')\n",
        "plt.xlabel('Year')\n",
        "plt.ylabel('Average number of papers')\n",
        "plt.xlim(xmin=1960, xmax=2008)\n",
        "plt.ylim(1.0,2.0)"
      ],
      "execution_count": 0,
      "outputs": [
        {
          "output_type": "execute_result",
          "data": {
            "text/plain": [
              "(1.0, 2.0)"
            ]
          },
          "metadata": {
            "tags": []
          },
          "execution_count": 5
        },
        {
          "output_type": "display_data",
          "data": {
            "image/png": "[encoded data removed]",
            "text/plain": [
              "<Figure size 432x288 with 1 Axes>"
            ]
          },
          "metadata": {
            "tags": []
          }
        }
      ]
    },
    {
      "cell_type": "code",
      "metadata": {
        "id": "0OLzEQAnSC5-",
        "colab_type": "code",
        "outputId": "116b149e-a0ec-495d-9b7e-9e288d7159f4",
        "colab": {
          "base_uri": "https://localhost:8080/",
          "height": 139
        }
      },
      "source": [
        "print(subdata.head())\n",
        "print(len(subdata))\n",
        "\n",
        "first_paper = {}\n",
        "\n",
        "male_data = []\n",
        "female_data = []\n",
        "\n",
        "male_count = {}\n",
        "female_count = {}\n",
        "\n",
        "for idx, row in subdata.sort_values('year').iterrows():\n",
        "  a_id = row['id']\n",
        "  gender = row['gender']\n",
        "  year = row['year']\n",
        "  if a_id not in first_paper:\n",
        "    first_paper[a_id] = year\n",
        "    continue\n",
        "  \n",
        "  paper_age = year - first_paper[a_id]\n",
        "  if gender == 'male':\n",
        "    male_data.append(paper_age)\n",
        "    male_count[paper_age] = male_count.get(paper_age, [])\n",
        "    if a_id not in male_count[paper_age]:\n",
        "      male_count[paper_age].append(a_id)\n",
        "  else:\n",
        "    female_data.append(paper_age)\n",
        "    female_count[paper_age] = female_count.get(paper_age, [])\n",
        "    if a_id not in female_count[paper_age]:\n",
        "      female_count[paper_age].append(a_id)\n",
        "      \n",
        "pa_m, count_m = np.unique(male_data, return_counts=1)\n",
        "pa_fm, count_fm = np.unique(female_data, return_counts=1)\n",
        "\n",
        "ave_m = [ct / len(male_count[p_age]) for p_age, ct in zip(pa_m, count_m)]\n",
        "ave_fm = [ct / len(female_count[p_age]) for p_age, ct in zip(pa_fm, count_fm)]"
      ],
      "execution_count": 0,
      "outputs": [
        {
          "output_type": "stream",
          "text": [
            "       id gender  year\n",
            "0  127898   male  1903\n",
            "1  127898   male  1915\n",
            "2  127898   male  1903\n",
            "3   59048   male  1903\n",
            "4    9710   male  1897\n",
            "531316\n"
          ],
          "name": "stdout"
        }
      ]
    },
    {
      "cell_type": "code",
      "metadata": {
        "id": "dgIuVIfCq21M",
        "colab_type": "code",
        "outputId": "39637602-8bb4-42fe-a255-2e7e97a53af8",
        "colab": {
          "base_uri": "https://localhost:8080/",
          "height": 313
        }
      },
      "source": [
        "plt.figure(2)\n",
        "plt.plot(pa_m, ave_m, '.-')\n",
        "plt.plot(pa_fm, ave_fm, '.-')\n",
        "plt.legend(['male', 'female'], loc='lower right')\n",
        "plt.title('Average Number of Papers Published by Career Age')\n",
        "plt.xlabel('Career age')\n",
        "plt.ylabel('Average number of papers')\n",
        "plt.xlim(1,35)\n",
        "plt.ylim(1.00,2.60)"
      ],
      "execution_count": 0,
      "outputs": [
        {
          "output_type": "execute_result",
          "data": {
            "text/plain": [
              "(1.0, 2.6)"
            ]
          },
          "metadata": {
            "tags": []
          },
          "execution_count": 8
        },
        {
          "output_type": "display_data",
          "data": {
            "image/png": "[encoded data removed]",
            "text/plain": [
              "<Figure size 432x288 with 1 Axes>"
            ]
          },
          "metadata": {
            "tags": []
          }
        }
      ]
    },
    {
      "cell_type": "markdown",
      "metadata": {
        "id": "Xg3b_eYxE_O9",
        "colab_type": "text"
      },
      "source": [
        "## 2. Productivity by Gender\n",
        "Career age = last – first publication\n",
        "\n",
        "Productivity = # publications / career age (normalizing)\n",
        "\n",
        "Find ways to distinguish the formerly created productivity graph.\n"
      ]
    },
    {
      "cell_type": "code",
      "metadata": {
        "id": "bhgMYTczFVf8",
        "colab_type": "code",
        "colab": {}
      },
      "source": [
        "prod = data\n",
        "prod = prod.groupby(['id', 'gender']).agg({'year':{'min_year':'min', 'max_year':'max', 'count':'count'}})\n",
        "# prod.tail(n=20)"
      ],
      "execution_count": 0,
      "outputs": []
    },
    {
      "cell_type": "code",
      "metadata": {
        "id": "eVbntl1evVtG",
        "colab_type": "code",
        "colab": {}
      },
      "source": [
        "prod['career_age'] = prod['year']['max_year'] - prod['year']['min_year']\n",
        "prod['prod'] = prod['year']['count'] / (prod['career_age'])\n",
        "\n",
        "prod.sort_values([('year','count')], ascending=False).head()"
      ],
      "execution_count": 0,
      "outputs": []
    },
    {
      "cell_type": "code",
      "metadata": {
        "id": "EgvbzNmHwSQa",
        "colab_type": "code",
        "colab": {}
      },
      "source": [
        "print(len(prod))"
      ],
      "execution_count": 0,
      "outputs": []
    },
    {
      "cell_type": "code",
      "metadata": {
        "id": "idhpGQygyhiv",
        "colab_type": "code",
        "colab": {}
      },
      "source": [
        "prod_m = prod.xs('male', level='gender')\n",
        "print(len(prod_m))\n",
        "prod_m.head()"
      ],
      "execution_count": 0,
      "outputs": []
    },
    {
      "cell_type": "code",
      "metadata": {
        "colab_type": "code",
        "id": "TRGPBd9JFn2x",
        "colab": {}
      },
      "source": [
        "# prod_m = prod_m.groupby('career_age')['career_age'].count()"
      ],
      "execution_count": 0,
      "outputs": []
    },
    {
      "cell_type": "code",
      "metadata": {
        "id": "K1A3qMnVuUyq",
        "colab_type": "code",
        "colab": {}
      },
      "source": [
        "prod_m"
      ],
      "execution_count": 0,
      "outputs": []
    },
    {
      "cell_type": "code",
      "metadata": {
        "id": "XEI5SoD9xa38",
        "colab_type": "code",
        "colab": {}
      },
      "source": [
        "# number of publications - male\n",
        "\n",
        "x = prod_m['year']['count'].hist(bins=50)\n",
        "x.set_yscale('log')\n",
        "plt.title('Number of publications of APS male authors')\n",
        "plt.xlabel('Number of publications')\n",
        "plt.xlim(xmax=500)\n",
        "plt.ylabel('log(count)')\n",
        "plt.ylim(ymax=100000)"
      ],
      "execution_count": 0,
      "outputs": []
    },
    {
      "cell_type": "code",
      "metadata": {
        "id": "oGB8_G2oxLSv",
        "colab_type": "code",
        "colab": {}
      },
      "source": [
        "prod_fm = prod.xs('female', level='gender')\n",
        "print(len(prod_fm))\n",
        "prod_fm.head()"
      ],
      "execution_count": 0,
      "outputs": []
    },
    {
      "cell_type": "code",
      "metadata": {
        "id": "COf9bP1XxoSa",
        "colab_type": "code",
        "colab": {}
      },
      "source": [
        "# number of publications - female\n",
        "\n",
        "y = prod_fm['year']['count'].hist(bins=50, color='orange')\n",
        "y.set_yscale('log')\n",
        "plt.title('Number of publications of APS female authors')\n",
        "plt.xlabel('Number of publications')\n",
        "plt.xlim(xmax=500)\n",
        "plt.ylabel('log(count)')\n",
        "plt.ylim(ymax=100000)"
      ],
      "execution_count": 0,
      "outputs": []
    },
    {
      "cell_type": "code",
      "metadata": {
        "id": "kyZE5btcLbFl",
        "colab_type": "code",
        "outputId": "1543cb94-9da5-40c0-92be-32ab05d9ad5c",
        "colab": {
          "base_uri": "https://localhost:8080/",
          "height": 295
        }
      },
      "source": [
        "plt.style.use('seaborn-deep')\n",
        "\n",
        "x = prod_m['year']['count']\n",
        "y = prod_fm['year']['count']\n",
        "\n",
        "bins = np.linspace(0, 200, 50)\n",
        "\n",
        "plt.hist([x, y], bins, label=['male', 'female'], color=('blue','orange'))\n",
        "plt.yscale('log')\n",
        "plt.legend(loc='upper right')\n",
        "plt.title('Number of Publications by APS Authors')\n",
        "plt.xlabel('Number of Publications')\n",
        "plt.xlim(xmin=0)\n",
        "plt.ylabel('log(count)')\n",
        "plt.show()"
      ],
      "execution_count": 0,
      "outputs": [
        {
          "output_type": "display_data",
          "data": {
            "image/png": "[encoded data removed]",
            "text/plain": [
              "<Figure size 432x288 with 1 Axes>"
            ]
          },
          "metadata": {
            "tags": []
          }
        }
      ]
    },
    {
      "cell_type": "markdown",
      "metadata": {
        "id": "VjNGDusbt2do",
        "colab_type": "text"
      },
      "source": [
        "### 2b Test Run (w/o inf-s) & KS Test"
      ]
    },
    {
      "cell_type": "code",
      "metadata": {
        "id": "8Beh81JNt6E0",
        "colab_type": "code",
        "colab": {}
      },
      "source": [
        "prod_m2 = prod.xs('male', level='gender')\n",
        "print(len(prod_m2))\n",
        "prod_m2.head()"
      ],
      "execution_count": 0,
      "outputs": []
    },
    {
      "cell_type": "code",
      "metadata": {
        "id": "NLMH5EP-uP0h",
        "colab_type": "code",
        "colab": {}
      },
      "source": [
        "pmtest = prod_m2[prod_m2['career_age'] == 0]\n",
        "print(len(pmtest))"
      ],
      "execution_count": 0,
      "outputs": []
    },
    {
      "cell_type": "code",
      "metadata": {
        "id": "15OcUM0Qt_g4",
        "colab_type": "code",
        "colab": {}
      },
      "source": [
        "prod_fm2 = prod.xs('female', level='gender')\n",
        "print(len(prod_fm2))\n",
        "prod_fm2.head()"
      ],
      "execution_count": 0,
      "outputs": []
    },
    {
      "cell_type": "code",
      "metadata": {
        "id": "13FyUIuhuk66",
        "colab_type": "code",
        "colab": {}
      },
      "source": [
        "pfmtest = prod_fm2[prod_fm2['career_age'] == 0]\n",
        "print(len(pfmtest))"
      ],
      "execution_count": 0,
      "outputs": []
    },
    {
      "cell_type": "code",
      "metadata": {
        "id": "0bIJe0EZvEOn",
        "colab_type": "code",
        "colab": {}
      },
      "source": [
        "# del pmtest\n",
        "# del pfmtest\n",
        "prod_m2 = prod_m2[prod_m2['career_age'] != 0]\n",
        "print(len(prod_m2))\n",
        "prod_fm2 = prod_fm2[prod_fm2['career_age'] != 0]\n",
        "print(len(prod_fm2))"
      ],
      "execution_count": 0,
      "outputs": []
    },
    {
      "cell_type": "code",
      "metadata": {
        "id": "spDVusFMvCJI",
        "colab_type": "code",
        "colab": {}
      },
      "source": [
        "x = prod_m2['year']['count'].hist(bins=50)\n",
        "x.set_yscale('log')"
      ],
      "execution_count": 0,
      "outputs": []
    },
    {
      "cell_type": "code",
      "metadata": {
        "id": "B6HOuAlYvXZD",
        "colab_type": "code",
        "colab": {}
      },
      "source": [
        "y = prod_fm2['year']['count'].hist(bins=50)\n",
        "y.set_yscale('log')"
      ],
      "execution_count": 0,
      "outputs": []
    },
    {
      "cell_type": "code",
      "metadata": {
        "id": "_V6iGJv9xCwN",
        "colab_type": "code",
        "colab": {}
      },
      "source": [
        "# productivity - male\n",
        "\n",
        "x2 = prod_m2['prod'].hist(bins=100)\n",
        "x2.set_yscale('log')\n",
        "plt.title('Productivity of APS male authors')\n",
        "plt.xlabel('Productivity')\n",
        "plt.xlim(xmax=16)\n",
        "plt.ylabel('log(count)')\n",
        "plt.ylim(ymax=10000)"
      ],
      "execution_count": 0,
      "outputs": []
    },
    {
      "cell_type": "code",
      "metadata": {
        "id": "lAb7lR6oxeWl",
        "colab_type": "code",
        "colab": {}
      },
      "source": [
        "# productivity - female\n",
        "\n",
        "y2 = prod_fm2['prod'].hist(bins=100, color='orange')\n",
        "y2.set_yscale('log')\n",
        "plt.title('Productivity of APS female authors')\n",
        "plt.xlabel('Productivity')\n",
        "plt.xlim(xmax=16)\n",
        "plt.ylabel('log(count)')\n",
        "plt.ylim(ymax=10000)"
      ],
      "execution_count": 0,
      "outputs": []
    },
    {
      "cell_type": "code",
      "metadata": {
        "id": "KTz-ND_DJr_z",
        "colab_type": "code",
        "outputId": "062608a7-8dd5-4594-abe9-d77d1133ff86",
        "colab": {
          "base_uri": "https://localhost:8080/",
          "height": 295
        }
      },
      "source": [
        "plt.style.use('seaborn-deep')\n",
        "\n",
        "x = prod_m2['prod']\n",
        "y = prod_fm2['prod']\n",
        "\n",
        "# x = prod_m2['prod'].value_counts()\n",
        "# y = prod_fm2['prod'].value_counts()\n",
        "bins = np.linspace(0, 10, 50)\n",
        "\n",
        "plt.hist([x, y], bins, label=['male', 'female'], color=('blue','orange'))\n",
        "plt.yscale('log')\n",
        "plt.legend(loc='upper right')\n",
        "plt.title('Productivity of APS Authors')\n",
        "plt.xlabel('Productivity')\n",
        "plt.xlim(xmin=0)\n",
        "plt.ylabel('log(count)')\n",
        "plt.show()"
      ],
      "execution_count": 0,
      "outputs": [
        {
          "output_type": "display_data",
          "data": {
            "image/png": "[encoded data removed]",
            "text/plain": [
              "<Figure size 432x288 with 1 Axes>"
            ]
          },
          "metadata": {
            "tags": []
          }
        }
      ]
    },
    {
      "cell_type": "code",
      "metadata": {
        "id": "yajTZZebFRtc",
        "colab_type": "code",
        "outputId": "c03932fa-931d-4966-9ff3-9f635c88c3ac",
        "colab": {
          "base_uri": "https://localhost:8080/",
          "height": 313
        }
      },
      "source": [
        "# PDF\n",
        "\n",
        "xy_d = pd.DataFrame({'male': prod_m2['prod'], 'female': prod_fm2['prod']})\n",
        "axy_d = xy_d.plot.kde(bw_method=0.3)\n",
        "plt.title('Productivity of APS authors (PDF)')\n",
        "plt.xlabel('Productivity')\n",
        "plt.xlim(xmin=0, xmax=5)\n",
        "plt.ylabel('Probability')"
      ],
      "execution_count": 0,
      "outputs": [
        {
          "output_type": "execute_result",
          "data": {
            "text/plain": [
              "Text(0, 0.5, 'Probability')"
            ]
          },
          "metadata": {
            "tags": []
          },
          "execution_count": 37
        },
        {
          "output_type": "display_data",
          "data": {
            "image/png": "[encoded data removed]",
            "text/plain": [
              "<Figure size 432x288 with 1 Axes>"
            ]
          },
          "metadata": {
            "tags": []
          }
        }
      ]
    },
    {
      "cell_type": "code",
      "metadata": {
        "id": "h9khQgsIMmBJ",
        "colab_type": "code",
        "colab": {}
      },
      "source": [
        "# CDF\n",
        "\n",
        "import statsmodels.api as sm\n",
        "\n",
        "sample = prod_m2['prod']\n",
        "ecdf = sm.distributions.ECDF(sample)\n",
        "\n",
        "x = np.linspace(min(sample), max(sample))\n",
        "y = ecdf(x)\n",
        "plt.plot(x,y)\n",
        "\n",
        "sample_2 = prod_fm2['prod']\n",
        "ecdf = sm.distributions.ECDF(sample_2)\n",
        "\n",
        "x_2 = np.linspace(min(sample_2), max(sample_2))\n",
        "y_2 = ecdf(x_2)\n",
        "plt.plot(x_2,y_2, color='orange')\n",
        "\n",
        "plt.title('Productivity of APS authors (CDF)')\n",
        "plt.legend(['male','female'], loc='lower right')\n",
        "plt.xlabel('Productivity')\n",
        "plt.xlim(xmin=0,xmax=4)\n",
        "plt.ylabel('Probability')\n",
        "plt.show()"
      ],
      "execution_count": 0,
      "outputs": []
    },
    {
      "cell_type": "code",
      "metadata": {
        "id": "vCIi8F8GDLSX",
        "colab_type": "code",
        "colab": {}
      },
      "source": [
        "data_m = prod_m2['prod']\n",
        "data_fm = prod_fm2['prod']\n",
        "\n",
        "sorted_data_m = np.sort(data_m)\n",
        "sorted_data_fm = np.sort(data_fm)\n",
        "\n",
        "yvals=np.arange(len(sorted_data_m))/float(len(sorted_data_m)-1)\n",
        "yvals2=np.arange(len(sorted_data_fm))/float(len(sorted_data_fm)-1)\n",
        "\n",
        "plt.plot(sorted_data_m,yvals)\n",
        "plt.plot(sorted_data_fm,yvals2)\n",
        "\n",
        "plt.title('Productivity of APS authors (CDF)')\n",
        "plt.xlabel('Productivity')\n",
        "plt.xlim(xmin=0.45, xmax=0.55)\n",
        "plt.ylabel('Probability')\n",
        "plt.ylim(ymin=0.15, ymax=0.25)\n",
        "\n",
        "plt.show()"
      ],
      "execution_count": 0,
      "outputs": []
    },
    {
      "cell_type": "code",
      "metadata": {
        "id": "fETURayRNJHv",
        "colab_type": "code",
        "outputId": "791776e3-81f6-4cda-ea08-97c97b3318c0",
        "colab": {
          "base_uri": "https://localhost:8080/",
          "height": 295
        }
      },
      "source": [
        "data_m = prod_m2['prod']\n",
        "data_fm = prod_fm2['prod']\n",
        "\n",
        "sorted_data_m = np.sort(data_m)\n",
        "sorted_data_fm = np.sort(data_fm)\n",
        "\n",
        "yvals=np.arange(len(sorted_data_m))/float(len(sorted_data_m)-1)\n",
        "yvals2=np.arange(len(sorted_data_fm))/float(len(sorted_data_fm)-1)\n",
        "\n",
        "plt.plot(sorted_data_m,yvals)\n",
        "plt.plot(sorted_data_fm,yvals2, color='orange')\n",
        "\n",
        "plt.title('Productivity of APS authors (CDF)')\n",
        "plt.xlabel('Productivity')\n",
        "plt.xlim(xmin=0, xmax=2.5)\n",
        "plt.ylabel('Probability')\n",
        "# plt.ylim(ymin=0, ymax=0.5)\n",
        "\n",
        "plt.show()"
      ],
      "execution_count": 0,
      "outputs": [
        {
          "output_type": "display_data",
          "data": {
            "image/png": "[encoded data removed]",
            "text/plain": [
              "<Figure size 432x288 with 1 Axes>"
            ]
          },
          "metadata": {
            "tags": []
          }
        }
      ]
    },
    {
      "cell_type": "code",
      "metadata": {
        "id": "UsOafqPI8l2q",
        "colab_type": "code",
        "outputId": "28dadaec-6196-4b13-cc35-a28dcff0db7b",
        "colab": {
          "base_uri": "https://localhost:8080/",
          "height": 35
        }
      },
      "source": [
        "#ks test\n",
        "\n",
        "from scipy.stats import ks_2samp\n",
        "ks_2samp(prod_m2['prod'], prod_fm2['prod'])"
      ],
      "execution_count": 0,
      "outputs": [
        {
          "output_type": "execute_result",
          "data": {
            "text/plain": [
              "Ks_2sampResult(statistic=0.0329418537762845, pvalue=0.000127997328482532)"
            ]
          },
          "metadata": {
            "tags": []
          },
          "execution_count": 43
        }
      ]
    },
    {
      "cell_type": "code",
      "metadata": {
        "id": "p6_Yr3hsxe4e",
        "colab_type": "code",
        "outputId": "ac9510da-a9f3-4cda-cb03-81521cf67750",
        "colab": {
          "base_uri": "https://localhost:8080/",
          "height": 35
        }
      },
      "source": [
        "#ks test: m > fm\n",
        "\n",
        "ks_2samp(prod_m2['prod'], prod_fm2['prod'], alternative='greater')"
      ],
      "execution_count": 0,
      "outputs": [
        {
          "output_type": "execute_result",
          "data": {
            "text/plain": [
              "Ks_2sampResult(statistic=0.0329418537762845, pvalue=6.244757804870422e-05)"
            ]
          },
          "metadata": {
            "tags": []
          },
          "execution_count": 44
        }
      ]
    },
    {
      "cell_type": "code",
      "metadata": {
        "id": "DO1iAkPIH9Wz",
        "colab_type": "code",
        "outputId": "29d993bd-b8a6-4087-aac4-7b1ea6a674c5",
        "colab": {
          "base_uri": "https://localhost:8080/",
          "height": 69
        }
      },
      "source": [
        "pmhalf = prod_m2[prod_m2['prod'] >= 0.5]\n",
        "pfmhalf = prod_fm2[prod_fm2['prod'] >= 0.5]\n",
        "\n",
        "print(ks_2samp(pmhalf['prod'], pfmhalf['prod']))\n",
        "print(ks_2samp(pmhalf['prod'], pfmhalf['prod'], alternative='greater'))\n",
        "print(ks_2samp(pmhalf['prod'], pfmhalf['prod'], alternative='less'))"
      ],
      "execution_count": 0,
      "outputs": [
        {
          "output_type": "stream",
          "text": [
            "Ks_2sampResult(statistic=0.028984094069053334, pvalue=0.003998964540829228)\n",
            "Ks_2sampResult(statistic=0.009776692159368938, pvalue=0.4894690513802622)\n",
            "Ks_2sampResult(statistic=0.028984094069053334, pvalue=0.0019566232126424113)\n"
          ],
          "name": "stdout"
        }
      ]
    },
    {
      "cell_type": "code",
      "metadata": {
        "id": "bISuccsfxl8s",
        "colab_type": "code",
        "outputId": "ff510b76-f7f3-432b-c156-0b07a2a150ce",
        "colab": {
          "base_uri": "https://localhost:8080/",
          "height": 35
        }
      },
      "source": [
        "#ks test: m < fm\n",
        "ks_2samp(prod_m2['prod'], prod_fm2['prod'], alternative='less')"
      ],
      "execution_count": 0,
      "outputs": [
        {
          "output_type": "execute_result",
          "data": {
            "text/plain": [
              "Ks_2sampResult(statistic=0.019882369577186365, pvalue=0.029229651385167425)"
            ]
          },
          "metadata": {
            "tags": []
          },
          "execution_count": 73
        }
      ]
    },
    {
      "cell_type": "code",
      "metadata": {
        "id": "BQ0BDdnFMmtl",
        "colab_type": "code",
        "outputId": "a7f34e9b-63f4-498d-b0ea-e6c690b3e71c",
        "colab": {
          "base_uri": "https://localhost:8080/",
          "height": 69
        }
      },
      "source": [
        "pmtwo = prod_m2[prod_m2['prod'] > 2]\n",
        "pfmtwo = prod_fm2[prod_fm2['prod'] > 2]\n",
        "\n",
        "print(ks_2samp(pmtwo['prod'], pfmtwo['prod']))\n",
        "print(ks_2samp(pmtwo['prod'], pfmtwo['prod'], alternative='greater'))\n",
        "print(ks_2samp(pmtwo['prod'], pfmtwo['prod'], alternative='less'))"
      ],
      "execution_count": 0,
      "outputs": [
        {
          "output_type": "stream",
          "text": [
            "Ks_2sampResult(statistic=0.11745518609742747, pvalue=3.535546159405545e-05)\n",
            "Ks_2sampResult(statistic=0.11745518609742747, pvalue=1.8103332786473043e-05)\n",
            "Ks_2sampResult(statistic=0.05037287903667214, pvalue=0.13140915393092845)\n"
          ],
          "name": "stdout"
        }
      ]
    },
    {
      "cell_type": "code",
      "metadata": {
        "id": "hpBWapSiBKQS",
        "colab_type": "code",
        "outputId": "0747362f-d1ce-4d26-b061-3250bd246120",
        "colab": {
          "base_uri": "https://localhost:8080/",
          "height": 69
        }
      },
      "source": [
        "def ks_2samp_x(data1, data2, alternative=\"two-sided\"):\n",
        "    data1 = np.sort(data1)\n",
        "    data2 = np.sort(data2)\n",
        "    n1 = data1.shape[0]\n",
        "    n2 = data2.shape[0]\n",
        "\n",
        "    data_all = np.concatenate([data1, data2])\n",
        "    # using searchsorted solves equal data problem\n",
        "    cdf1 = np.searchsorted(data1, data_all, side='right') / n1\n",
        "    cdf2 = np.searchsorted(data2, data_all, side='right') / n2\n",
        "    cddiffs = cdf1 - cdf2\n",
        "    minS = np.argmin(cddiffs)   # ks_2samp uses np.min or np.max respectively \n",
        "    maxS = np.argmax(cddiffs)   # now we get instead the index in data_all\n",
        "    alt2Dvalue = {'less': minS, 'greater': maxS, 'two-sided': max(minS, maxS)}\n",
        "    d_arg = alt2Dvalue[alternative]\n",
        "    return data_all[d_arg]\n",
        "\n",
        "# print(ks_2samp_x(prod_m2['prod'], prod_fm2['prod']))\n",
        "# print(ks_2samp_x(prod_m2['prod'], prod_fm2['prod'], alternative=\"greater\"))\n",
        "# print(ks_2samp_x(prod_m2['prod'], prod_fm2['prod'], alternative=\"less\"))\n",
        "\n",
        "print(ks_2samp_x(pmtwo['prod'], pfmtwo['prod']))\n",
        "print(ks_2samp_x(pmtwo['prod'], pfmtwo['prod'], alternative='greater'))\n",
        "print(ks_2samp_x(pmtwo['prod'], pfmtwo['prod'], alternative='less'))"
      ],
      "execution_count": 0,
      "outputs": [
        {
          "output_type": "stream",
          "text": [
            "3.0434782608695654\n",
            "2.9714285714285715\n",
            "3.0434782608695654\n"
          ],
          "name": "stdout"
        }
      ]
    },
    {
      "cell_type": "markdown",
      "metadata": {
        "id": "zBF0NSSIE_n_",
        "colab_type": "text"
      },
      "source": [
        "## 3. Dropout Authors by Career Age\n",
        "Don't include the authors who have not written anything before 1999.\n",
        "\n",
        "(annual year is only showing less accurate dropout)"
      ]
    },
    {
      "cell_type": "code",
      "metadata": {
        "id": "14sFVSQXyFc9",
        "colab_type": "code",
        "outputId": "6a2d5aab-5788-4c22-d5f9-a3a2fbd0f9fb",
        "colab": {
          "base_uri": "https://localhost:8080/",
          "height": 318
        }
      },
      "source": [
        "prod = data\n",
        "prod = prod.groupby(['id', 'gender']).agg({'year':{'min_year':'min', 'max_year':'max', 'count':'count'}})\n",
        "\n",
        "prod['career_age'] = prod['year']['max_year'] - prod['year']['min_year']\n",
        "prod['prod'] = prod['year']['count'] / (prod['career_age'])\n",
        "\n",
        "prod.sort_values([('year','count')], ascending=False).head()"
      ],
      "execution_count": 0,
      "outputs": [
        {
          "output_type": "stream",
          "text": [
            "/usr/local/lib/python3.6/dist-packages/pandas/core/groupby/generic.py:1315: FutureWarning: using a dict with renaming is deprecated and will be removed in a future version\n",
            "  return super(DataFrameGroupBy, self).aggregate(arg, *args, **kwargs)\n"
          ],
          "name": "stderr"
        },
        {
          "output_type": "execute_result",
          "data": {
            "text/html": [
              "<div>\n",
              "<style scoped>\n",
              "    .dataframe tbody tr th:only-of-type {\n",
              "        vertical-align: middle;\n",
              "    }\n",
              "\n",
              "    .dataframe tbody tr th {\n",
              "        vertical-align: top;\n",
              "    }\n",
              "\n",
              "    .dataframe thead tr th {\n",
              "        text-align: left;\n",
              "    }\n",
              "\n",
              "    .dataframe thead tr:last-of-type th {\n",
              "        text-align: right;\n",
              "    }\n",
              "</style>\n",
              "<table border=\"1\" class=\"dataframe\">\n",
              "  <thead>\n",
              "    <tr>\n",
              "      <th></th>\n",
              "      <th></th>\n",
              "      <th colspan=\"3\" halign=\"left\">year</th>\n",
              "      <th>career_age</th>\n",
              "      <th>prod</th>\n",
              "    </tr>\n",
              "    <tr>\n",
              "      <th></th>\n",
              "      <th></th>\n",
              "      <th>min_year</th>\n",
              "      <th>max_year</th>\n",
              "      <th>count</th>\n",
              "      <th></th>\n",
              "      <th></th>\n",
              "    </tr>\n",
              "    <tr>\n",
              "      <th>id</th>\n",
              "      <th>gender</th>\n",
              "      <th></th>\n",
              "      <th></th>\n",
              "      <th></th>\n",
              "      <th></th>\n",
              "      <th></th>\n",
              "    </tr>\n",
              "  </thead>\n",
              "  <tbody>\n",
              "    <tr>\n",
              "      <th>162998</th>\n",
              "      <th>male</th>\n",
              "      <td>1961</td>\n",
              "      <td>2009</td>\n",
              "      <td>484</td>\n",
              "      <td>48</td>\n",
              "      <td>10.083333</td>\n",
              "    </tr>\n",
              "    <tr>\n",
              "      <th>92641</th>\n",
              "      <th>male</th>\n",
              "      <td>1979</td>\n",
              "      <td>2009</td>\n",
              "      <td>443</td>\n",
              "      <td>30</td>\n",
              "      <td>14.766667</td>\n",
              "    </tr>\n",
              "    <tr>\n",
              "      <th>145071</th>\n",
              "      <th>male</th>\n",
              "      <td>1978</td>\n",
              "      <td>2009</td>\n",
              "      <td>433</td>\n",
              "      <td>31</td>\n",
              "      <td>13.967742</td>\n",
              "    </tr>\n",
              "    <tr>\n",
              "      <th>233941</th>\n",
              "      <th>male</th>\n",
              "      <td>1958</td>\n",
              "      <td>2009</td>\n",
              "      <td>396</td>\n",
              "      <td>51</td>\n",
              "      <td>7.764706</td>\n",
              "    </tr>\n",
              "    <tr>\n",
              "      <th>140103</th>\n",
              "      <th>male</th>\n",
              "      <td>1983</td>\n",
              "      <td>2009</td>\n",
              "      <td>393</td>\n",
              "      <td>26</td>\n",
              "      <td>15.115385</td>\n",
              "    </tr>\n",
              "  </tbody>\n",
              "</table>\n",
              "</div>"
            ],
            "text/plain": [
              "                  year                career_age       prod\n",
              "              min_year max_year count                      \n",
              "id     gender                                              \n",
              "162998 male       1961     2009   484         48  10.083333\n",
              "92641  male       1979     2009   443         30  14.766667\n",
              "145071 male       1978     2009   433         31  13.967742\n",
              "233941 male       1958     2009   396         51   7.764706\n",
              "140103 male       1983     2009   393         26  15.115385"
            ]
          },
          "metadata": {
            "tags": []
          },
          "execution_count": 6
        }
      ]
    },
    {
      "cell_type": "code",
      "metadata": {
        "id": "ozgYWLOHFRqB",
        "colab_type": "code",
        "outputId": "3a9aa0cd-1b20-49ff-9075-8aa8a2cfc046",
        "colab": {
          "base_uri": "https://localhost:8080/",
          "height": 281
        }
      },
      "source": [
        "drop = prod[prod['year']['min_year'] < 2004]\n",
        "print(len(drop))\n",
        "drop.head()"
      ],
      "execution_count": 0,
      "outputs": [
        {
          "output_type": "stream",
          "text": [
            "50292\n"
          ],
          "name": "stdout"
        },
        {
          "output_type": "execute_result",
          "data": {
            "text/html": [
              "<div>\n",
              "<style scoped>\n",
              "    .dataframe tbody tr th:only-of-type {\n",
              "        vertical-align: middle;\n",
              "    }\n",
              "\n",
              "    .dataframe tbody tr th {\n",
              "        vertical-align: top;\n",
              "    }\n",
              "\n",
              "    .dataframe thead tr th {\n",
              "        text-align: left;\n",
              "    }\n",
              "\n",
              "    .dataframe thead tr:last-of-type th {\n",
              "        text-align: right;\n",
              "    }\n",
              "</style>\n",
              "<table border=\"1\" class=\"dataframe\">\n",
              "  <thead>\n",
              "    <tr>\n",
              "      <th></th>\n",
              "      <th></th>\n",
              "      <th colspan=\"3\" halign=\"left\">year</th>\n",
              "      <th>career_age</th>\n",
              "      <th>prod</th>\n",
              "    </tr>\n",
              "    <tr>\n",
              "      <th></th>\n",
              "      <th></th>\n",
              "      <th>min_year</th>\n",
              "      <th>max_year</th>\n",
              "      <th>count</th>\n",
              "      <th></th>\n",
              "      <th></th>\n",
              "    </tr>\n",
              "    <tr>\n",
              "      <th>id</th>\n",
              "      <th>gender</th>\n",
              "      <th></th>\n",
              "      <th></th>\n",
              "      <th></th>\n",
              "      <th></th>\n",
              "      <th></th>\n",
              "    </tr>\n",
              "  </thead>\n",
              "  <tbody>\n",
              "    <tr>\n",
              "      <th>3</th>\n",
              "      <th>male</th>\n",
              "      <td>1985</td>\n",
              "      <td>1985</td>\n",
              "      <td>1</td>\n",
              "      <td>0</td>\n",
              "      <td>inf</td>\n",
              "    </tr>\n",
              "    <tr>\n",
              "      <th>7</th>\n",
              "      <th>male</th>\n",
              "      <td>1996</td>\n",
              "      <td>1999</td>\n",
              "      <td>2</td>\n",
              "      <td>3</td>\n",
              "      <td>0.666667</td>\n",
              "    </tr>\n",
              "    <tr>\n",
              "      <th>8</th>\n",
              "      <th>male</th>\n",
              "      <td>1991</td>\n",
              "      <td>1999</td>\n",
              "      <td>9</td>\n",
              "      <td>8</td>\n",
              "      <td>1.125000</td>\n",
              "    </tr>\n",
              "    <tr>\n",
              "      <th>9</th>\n",
              "      <th>male</th>\n",
              "      <td>1996</td>\n",
              "      <td>1996</td>\n",
              "      <td>1</td>\n",
              "      <td>0</td>\n",
              "      <td>inf</td>\n",
              "    </tr>\n",
              "    <tr>\n",
              "      <th>13</th>\n",
              "      <th>male</th>\n",
              "      <td>1989</td>\n",
              "      <td>2008</td>\n",
              "      <td>46</td>\n",
              "      <td>19</td>\n",
              "      <td>2.421053</td>\n",
              "    </tr>\n",
              "  </tbody>\n",
              "</table>\n",
              "</div>"
            ],
            "text/plain": [
              "              year                career_age      prod\n",
              "          min_year max_year count                     \n",
              "id gender                                             \n",
              "3  male       1985     1985     1          0       inf\n",
              "7  male       1996     1999     2          3  0.666667\n",
              "8  male       1991     1999     9          8  1.125000\n",
              "9  male       1996     1996     1          0       inf\n",
              "13 male       1989     2008    46         19  2.421053"
            ]
          },
          "metadata": {
            "tags": []
          },
          "execution_count": 7
        }
      ]
    },
    {
      "cell_type": "code",
      "metadata": {
        "id": "20IgixRO0tCn",
        "colab_type": "code",
        "outputId": "583208f1-fb8e-4e22-be54-e584b523b61b",
        "colab": {
          "base_uri": "https://localhost:8080/",
          "height": 69
        }
      },
      "source": [
        "# How many authors do not enter their second year?\n",
        "\n",
        "one = drop[drop['career_age'] == 0]\n",
        "print(len(one))\n",
        "\n",
        "one_m = one.xs('male', level='gender')\n",
        "print(len(one_m))\n",
        "\n",
        "one_fm = one.xs('female', level='gender')\n",
        "print(len(one_fm))"
      ],
      "execution_count": 0,
      "outputs": [
        {
          "output_type": "stream",
          "text": [
            "14743\n",
            "12379\n",
            "2364\n"
          ],
          "name": "stdout"
        }
      ]
    },
    {
      "cell_type": "code",
      "metadata": {
        "id": "_SMPpJiVzzVD",
        "colab_type": "code",
        "outputId": "c5a23f53-121e-43b9-9bd0-47cd36f3d99e",
        "colab": {
          "base_uri": "https://localhost:8080/",
          "height": 281
        }
      },
      "source": [
        "# drop all the inf-s\n",
        "\n",
        "drop = drop[drop['career_age'] > 0]\n",
        "print(len(drop))\n",
        "drop.head()"
      ],
      "execution_count": 0,
      "outputs": [
        {
          "output_type": "stream",
          "text": [
            "35549\n"
          ],
          "name": "stdout"
        },
        {
          "output_type": "execute_result",
          "data": {
            "text/html": [
              "<div>\n",
              "<style scoped>\n",
              "    .dataframe tbody tr th:only-of-type {\n",
              "        vertical-align: middle;\n",
              "    }\n",
              "\n",
              "    .dataframe tbody tr th {\n",
              "        vertical-align: top;\n",
              "    }\n",
              "\n",
              "    .dataframe thead tr th {\n",
              "        text-align: left;\n",
              "    }\n",
              "\n",
              "    .dataframe thead tr:last-of-type th {\n",
              "        text-align: right;\n",
              "    }\n",
              "</style>\n",
              "<table border=\"1\" class=\"dataframe\">\n",
              "  <thead>\n",
              "    <tr>\n",
              "      <th></th>\n",
              "      <th></th>\n",
              "      <th colspan=\"3\" halign=\"left\">year</th>\n",
              "      <th>career_age</th>\n",
              "      <th>prod</th>\n",
              "    </tr>\n",
              "    <tr>\n",
              "      <th></th>\n",
              "      <th></th>\n",
              "      <th>min_year</th>\n",
              "      <th>max_year</th>\n",
              "      <th>count</th>\n",
              "      <th></th>\n",
              "      <th></th>\n",
              "    </tr>\n",
              "    <tr>\n",
              "      <th>id</th>\n",
              "      <th>gender</th>\n",
              "      <th></th>\n",
              "      <th></th>\n",
              "      <th></th>\n",
              "      <th></th>\n",
              "      <th></th>\n",
              "    </tr>\n",
              "  </thead>\n",
              "  <tbody>\n",
              "    <tr>\n",
              "      <th>7</th>\n",
              "      <th>male</th>\n",
              "      <td>1996</td>\n",
              "      <td>1999</td>\n",
              "      <td>2</td>\n",
              "      <td>3</td>\n",
              "      <td>0.666667</td>\n",
              "    </tr>\n",
              "    <tr>\n",
              "      <th>8</th>\n",
              "      <th>male</th>\n",
              "      <td>1991</td>\n",
              "      <td>1999</td>\n",
              "      <td>9</td>\n",
              "      <td>8</td>\n",
              "      <td>1.125000</td>\n",
              "    </tr>\n",
              "    <tr>\n",
              "      <th>13</th>\n",
              "      <th>male</th>\n",
              "      <td>1989</td>\n",
              "      <td>2008</td>\n",
              "      <td>46</td>\n",
              "      <td>19</td>\n",
              "      <td>2.421053</td>\n",
              "    </tr>\n",
              "    <tr>\n",
              "      <th>15</th>\n",
              "      <th>male</th>\n",
              "      <td>1995</td>\n",
              "      <td>2002</td>\n",
              "      <td>9</td>\n",
              "      <td>7</td>\n",
              "      <td>1.285714</td>\n",
              "    </tr>\n",
              "    <tr>\n",
              "      <th>16</th>\n",
              "      <th>male</th>\n",
              "      <td>1993</td>\n",
              "      <td>2006</td>\n",
              "      <td>9</td>\n",
              "      <td>13</td>\n",
              "      <td>0.692308</td>\n",
              "    </tr>\n",
              "  </tbody>\n",
              "</table>\n",
              "</div>"
            ],
            "text/plain": [
              "              year                career_age      prod\n",
              "          min_year max_year count                     \n",
              "id gender                                             \n",
              "7  male       1996     1999     2          3  0.666667\n",
              "8  male       1991     1999     9          8  1.125000\n",
              "13 male       1989     2008    46         19  2.421053\n",
              "15 male       1995     2002     9          7  1.285714\n",
              "16 male       1993     2006     9         13  0.692308"
            ]
          },
          "metadata": {
            "tags": []
          },
          "execution_count": 8
        }
      ]
    },
    {
      "cell_type": "code",
      "metadata": {
        "id": "YTPAHqArp4dl",
        "colab_type": "code",
        "outputId": "aab31424-1eaf-4eee-d8f9-87e1f52ef01f",
        "colab": {
          "base_uri": "https://localhost:8080/",
          "height": 69
        }
      },
      "source": [
        "old = drop[drop['career_age'] > 40]\n",
        "print(len(old))\n",
        "\n",
        "old_m = old.xs('male', level='gender')\n",
        "print(len(old_m))\n",
        "\n",
        "old_fm = old.xs('female', level='gender')\n",
        "print(len(old_fm))"
      ],
      "execution_count": 0,
      "outputs": [
        {
          "output_type": "stream",
          "text": [
            "1054\n",
            "992\n",
            "62\n"
          ],
          "name": "stdout"
        }
      ]
    },
    {
      "cell_type": "code",
      "metadata": {
        "id": "RQXi101k1jM9",
        "colab_type": "code",
        "colab": {}
      },
      "source": [
        "gb = drop.groupby(['gender', 'career_age'])['career_age'].count()\n",
        "n_m = gb['male'].sum()\n",
        "n_fm = gb['female'].sum()\n",
        "print(n_m, n_fm)\n",
        "(gb['male']/n_m).plot()\n",
        "(gb['female']/n_fm).plot()\n",
        "t = np.linspace(1,70,1)\n",
        "y = t^-(2/40)\n",
        "plt.plot(t,y,'.-')\n",
        "\n",
        "# plt.title()\n",
        "# plt.xlim()\n",
        "plt.yscale('log')"
      ],
      "execution_count": 0,
      "outputs": []
    },
    {
      "cell_type": "code",
      "metadata": {
        "colab_type": "code",
        "outputId": "a845f75a-9fee-430a-8d47-649782133fde",
        "id": "R3uNyBsJAIC0",
        "colab": {
          "base_uri": "https://localhost:8080/",
          "height": 330
        }
      },
      "source": [
        "# scatterplot\n",
        "\n",
        "gb = drop.groupby(['gender', 'career_age'])['career_age'].count()\n",
        "n_m = gb['male'].sum()\n",
        "n_fm = gb['female'].sum()\n",
        "print(n_m, n_fm)\n",
        "\n",
        "(gb['male']/n_m).plot(style='.-')\n",
        "(gb['female']/n_fm).plot(style='.-')\n",
        "\n",
        "# t = np.linspace(1,70)\n",
        "# y = np.power(t,-(20/40))\n",
        "# plt.plot(t,y-0.1, '--')\n",
        "\n",
        "plt.title('Dropout Authors Ratio')\n",
        "plt.legend(('male', 'female'), loc='upper right')\n",
        "plt.xlabel('Career Age')\n",
        "# plt.yscale('log')\n",
        "plt.ylabel('% of Dropouts')"
      ],
      "execution_count": 0,
      "outputs": [
        {
          "output_type": "stream",
          "text": [
            "31667 3882\n"
          ],
          "name": "stdout"
        },
        {
          "output_type": "execute_result",
          "data": {
            "text/plain": [
              "Text(0, 0.5, '% of Dropouts')"
            ]
          },
          "metadata": {
            "tags": []
          },
          "execution_count": 43
        },
        {
          "output_type": "display_data",
          "data": {
            "image/png": "[encoded data removed]",
            "text/plain": [
              "<Figure size 432x288 with 1 Axes>"
            ]
          },
          "metadata": {
            "tags": []
          }
        }
      ]
    },
    {
      "cell_type": "code",
      "metadata": {
        "id": "utgDYZHT9J8o",
        "colab_type": "code",
        "outputId": "d9dac097-04e8-47e3-9cfb-acd146ef7298",
        "colab": {
          "base_uri": "https://localhost:8080/",
          "height": 330
        }
      },
      "source": [
        "# scatterplot - edit\n",
        "\n",
        "gb = drop.groupby(['gender', 'career_age'])['career_age'].count()\n",
        "n_m = gb['male'].sum()\n",
        "n_fm = gb['female'].sum()\n",
        "print(n_m, n_fm)\n",
        "\n",
        "(gb['male']/n_m).plot(style='.-')\n",
        "(gb['female']/n_fm).plot(style='.-')\n",
        "\n",
        "plt.title('Dropout Authors Ratio')\n",
        "plt.legend(('male', 'female'), loc='upper right')\n",
        "plt.xlabel('Career Age')\n",
        "plt.xlim(0,40)\n",
        "# plt.yscale('log')\n",
        "plt.ylabel('% of Dropouts')"
      ],
      "execution_count": 0,
      "outputs": [
        {
          "output_type": "stream",
          "text": [
            "31667 3882\n"
          ],
          "name": "stdout"
        },
        {
          "output_type": "execute_result",
          "data": {
            "text/plain": [
              "Text(0, 0.5, '% of Dropouts')"
            ]
          },
          "metadata": {
            "tags": []
          },
          "execution_count": 44
        },
        {
          "output_type": "display_data",
          "data": {
            "image/png": "[encoded data removed]",
            "text/plain": [
              "<Figure size 432x288 with 1 Axes>"
            ]
          },
          "metadata": {
            "tags": []
          }
        }
      ]
    },
    {
      "cell_type": "code",
      "metadata": {
        "id": "AHMxBv77cVcR",
        "colab_type": "code",
        "outputId": "3f66cb11-8364-4466-bc48-aa10012d7ed4",
        "colab": {
          "base_uri": "https://localhost:8080/",
          "height": 313
        }
      },
      "source": [
        "gb = drop.groupby(['gender', 'career_age'])['career_age'].count()\n",
        "n_m = gb['male'].sum()\n",
        "n_fm = gb['female'].sum()\n",
        "\n",
        "gb_m = gb['male']\n",
        "gb_fm = gb['female']\n",
        "\n",
        "dropmale = gb_m.sort_index(ascending=False)\n",
        "result_m = (dropmale / dropmale.cumsum()).iloc[::-1]\n",
        "\n",
        "dropfemale = gb_fm.sort_index(ascending=False)\n",
        "result_fm = (dropfemale / dropfemale.cumsum()).iloc[::-1]\n",
        "\n",
        "result_m.plot(style='.-')\n",
        "result_fm.plot(style='.-')\n",
        "\n",
        "plt.title('Dropout Author Ratio by Career Age')\n",
        "plt.legend(('male', 'female'), loc='upper left')\n",
        "plt.xlabel('Career Age')\n",
        "# plt.xlim(xmax=40)\n",
        "plt.ylabel('% of Dropout')\n",
        "# plt.ylim(ymin=0, ymax=0.2)"
      ],
      "execution_count": 0,
      "outputs": [
        {
          "output_type": "execute_result",
          "data": {
            "text/plain": [
              "Text(0, 0.5, '% of Dropout')"
            ]
          },
          "metadata": {
            "tags": []
          },
          "execution_count": 22
        },
        {
          "output_type": "display_data",
          "data": {
            "image/png": "[encoded data removed]",
            "text/plain": [
              "<Figure size 432x288 with 1 Axes>"
            ]
          },
          "metadata": {
            "tags": []
          }
        }
      ]
    },
    {
      "cell_type": "markdown",
      "metadata": {
        "id": "DVoglDodE_78",
        "colab_type": "text"
      },
      "source": [
        "## 4. Frequently-cited Papers Analysis\n",
        "Only consider primary authors.\n",
        "\n",
        "How many of the top 10, 20, 30% belong to men first articles, female first articles?\n",
        "\n",
        "Are those statistically significant? Expected?\n",
        "\n",
        "If this is not expected, why? Productivity?"
      ]
    },
    {
      "cell_type": "code",
      "metadata": {
        "id": "UNwxVJGmCIBZ",
        "colab_type": "code",
        "outputId": "d825d838-50b4-41b8-9201-230ac8a5e967",
        "colab": {
          "base_uri": "https://localhost:8080/",
          "height": 219
        }
      },
      "source": [
        "na = data[data['is_alpha'] == False]\n",
        "print(len(na))\n",
        "na.head()"
      ],
      "execution_count": 0,
      "outputs": [
        {
          "output_type": "stream",
          "text": [
            "503297\n"
          ],
          "name": "stdout"
        },
        {
          "output_type": "execute_result",
          "data": {
            "text/html": [
              "<div>\n",
              "<style scoped>\n",
              "    .dataframe tbody tr th:only-of-type {\n",
              "        vertical-align: middle;\n",
              "    }\n",
              "\n",
              "    .dataframe tbody tr th {\n",
              "        vertical-align: top;\n",
              "    }\n",
              "\n",
              "    .dataframe thead th {\n",
              "        text-align: right;\n",
              "    }\n",
              "</style>\n",
              "<table border=\"1\" class=\"dataframe\">\n",
              "  <thead>\n",
              "    <tr style=\"text-align: right;\">\n",
              "      <th></th>\n",
              "      <th>doi</th>\n",
              "      <th>id</th>\n",
              "      <th>gender</th>\n",
              "      <th>order</th>\n",
              "      <th>numAuthor</th>\n",
              "      <th>is_last</th>\n",
              "      <th>is_alpha</th>\n",
              "      <th>year</th>\n",
              "      <th>articleType</th>\n",
              "      <th>journal</th>\n",
              "    </tr>\n",
              "  </thead>\n",
              "  <tbody>\n",
              "    <tr>\n",
              "      <th>0</th>\n",
              "      <td>10.1103/PhysRevSeriesI.17.267</td>\n",
              "      <td>127898</td>\n",
              "      <td>male</td>\n",
              "      <td>2</td>\n",
              "      <td>2</td>\n",
              "      <td>True</td>\n",
              "      <td>False</td>\n",
              "      <td>1903</td>\n",
              "      <td>article</td>\n",
              "      <td>PRI</td>\n",
              "    </tr>\n",
              "    <tr>\n",
              "      <th>1</th>\n",
              "      <td>10.1103/PhysRev.5.269</td>\n",
              "      <td>127898</td>\n",
              "      <td>male</td>\n",
              "      <td>3</td>\n",
              "      <td>3</td>\n",
              "      <td>True</td>\n",
              "      <td>False</td>\n",
              "      <td>1915</td>\n",
              "      <td>article</td>\n",
              "      <td>PR</td>\n",
              "    </tr>\n",
              "    <tr>\n",
              "      <th>2</th>\n",
              "      <td>10.1103/PhysRevSeriesI.16.279</td>\n",
              "      <td>127898</td>\n",
              "      <td>male</td>\n",
              "      <td>2</td>\n",
              "      <td>2</td>\n",
              "      <td>True</td>\n",
              "      <td>False</td>\n",
              "      <td>1903</td>\n",
              "      <td>article</td>\n",
              "      <td>PRI</td>\n",
              "    </tr>\n",
              "    <tr>\n",
              "      <th>3</th>\n",
              "      <td>10.1103/PhysRevSeriesI.16.279</td>\n",
              "      <td>59048</td>\n",
              "      <td>male</td>\n",
              "      <td>1</td>\n",
              "      <td>2</td>\n",
              "      <td>False</td>\n",
              "      <td>False</td>\n",
              "      <td>1903</td>\n",
              "      <td>article</td>\n",
              "      <td>PRI</td>\n",
              "    </tr>\n",
              "    <tr>\n",
              "      <th>4</th>\n",
              "      <td>10.1103/PhysRevSeriesI.5.294</td>\n",
              "      <td>9710</td>\n",
              "      <td>male</td>\n",
              "      <td>1</td>\n",
              "      <td>2</td>\n",
              "      <td>False</td>\n",
              "      <td>False</td>\n",
              "      <td>1897</td>\n",
              "      <td>article</td>\n",
              "      <td>PRI</td>\n",
              "    </tr>\n",
              "  </tbody>\n",
              "</table>\n",
              "</div>"
            ],
            "text/plain": [
              "                             doi      id gender  ...  year  articleType  journal\n",
              "0  10.1103/PhysRevSeriesI.17.267  127898   male  ...  1903      article      PRI\n",
              "1          10.1103/PhysRev.5.269  127898   male  ...  1915      article       PR\n",
              "2  10.1103/PhysRevSeriesI.16.279  127898   male  ...  1903      article      PRI\n",
              "3  10.1103/PhysRevSeriesI.16.279   59048   male  ...  1903      article      PRI\n",
              "4   10.1103/PhysRevSeriesI.5.294    9710   male  ...  1897      article      PRI\n",
              "\n",
              "[5 rows x 10 columns]"
            ]
          },
          "metadata": {
            "tags": []
          },
          "execution_count": 6
        }
      ]
    },
    {
      "cell_type": "code",
      "metadata": {
        "id": "rRiWCdvDCoux",
        "colab_type": "code",
        "outputId": "484aa278-e1f1-4d50-e89c-64a02401308a",
        "colab": {
          "base_uri": "https://localhost:8080/",
          "height": 35
        }
      },
      "source": [
        "na['doi'].nunique()"
      ],
      "execution_count": 0,
      "outputs": [
        {
          "output_type": "execute_result",
          "data": {
            "text/plain": [
              "252444"
            ]
          },
          "metadata": {
            "tags": []
          },
          "execution_count": 24
        }
      ]
    },
    {
      "cell_type": "code",
      "metadata": {
        "id": "AOTpcH6SCzA8",
        "colab_type": "code",
        "outputId": "03d9d0aa-2135-4d2c-e299-ea28e4069b01",
        "colab": {
          "base_uri": "https://localhost:8080/",
          "height": 237
        }
      },
      "source": [
        "na_p = na[na['order'] == 1]\n",
        "print(len(na_p))\n",
        "print(na_p['doi'].nunique())\n",
        "na_p.head()"
      ],
      "execution_count": 0,
      "outputs": [
        {
          "output_type": "stream",
          "text": [
            "149627\n",
            "149627\n"
          ],
          "name": "stdout"
        },
        {
          "output_type": "execute_result",
          "data": {
            "text/html": [
              "<div>\n",
              "<style scoped>\n",
              "    .dataframe tbody tr th:only-of-type {\n",
              "        vertical-align: middle;\n",
              "    }\n",
              "\n",
              "    .dataframe tbody tr th {\n",
              "        vertical-align: top;\n",
              "    }\n",
              "\n",
              "    .dataframe thead th {\n",
              "        text-align: right;\n",
              "    }\n",
              "</style>\n",
              "<table border=\"1\" class=\"dataframe\">\n",
              "  <thead>\n",
              "    <tr style=\"text-align: right;\">\n",
              "      <th></th>\n",
              "      <th>doi</th>\n",
              "      <th>id</th>\n",
              "      <th>gender</th>\n",
              "      <th>order</th>\n",
              "      <th>numAuthor</th>\n",
              "      <th>is_last</th>\n",
              "      <th>is_alpha</th>\n",
              "      <th>year</th>\n",
              "      <th>articleType</th>\n",
              "      <th>journal</th>\n",
              "    </tr>\n",
              "  </thead>\n",
              "  <tbody>\n",
              "    <tr>\n",
              "      <th>3</th>\n",
              "      <td>10.1103/PhysRevSeriesI.16.279</td>\n",
              "      <td>59048</td>\n",
              "      <td>male</td>\n",
              "      <td>1</td>\n",
              "      <td>2</td>\n",
              "      <td>False</td>\n",
              "      <td>False</td>\n",
              "      <td>1903</td>\n",
              "      <td>article</td>\n",
              "      <td>PRI</td>\n",
              "    </tr>\n",
              "    <tr>\n",
              "      <th>4</th>\n",
              "      <td>10.1103/PhysRevSeriesI.5.294</td>\n",
              "      <td>9710</td>\n",
              "      <td>male</td>\n",
              "      <td>1</td>\n",
              "      <td>2</td>\n",
              "      <td>False</td>\n",
              "      <td>False</td>\n",
              "      <td>1897</td>\n",
              "      <td>article</td>\n",
              "      <td>PRI</td>\n",
              "    </tr>\n",
              "    <tr>\n",
              "      <th>6</th>\n",
              "      <td>10.1103/PhysRevSeriesI.27.225</td>\n",
              "      <td>159086</td>\n",
              "      <td>male</td>\n",
              "      <td>1</td>\n",
              "      <td>2</td>\n",
              "      <td>False</td>\n",
              "      <td>False</td>\n",
              "      <td>1908</td>\n",
              "      <td>article</td>\n",
              "      <td>PRI</td>\n",
              "    </tr>\n",
              "    <tr>\n",
              "      <th>7</th>\n",
              "      <td>10.1103/PhysRevSeriesI.4.314</td>\n",
              "      <td>29513</td>\n",
              "      <td>male</td>\n",
              "      <td>1</td>\n",
              "      <td>2</td>\n",
              "      <td>False</td>\n",
              "      <td>False</td>\n",
              "      <td>1897</td>\n",
              "      <td>article</td>\n",
              "      <td>PRI</td>\n",
              "    </tr>\n",
              "    <tr>\n",
              "      <th>8</th>\n",
              "      <td>10.1103/PhysRevSeriesI.5.152</td>\n",
              "      <td>29513</td>\n",
              "      <td>male</td>\n",
              "      <td>1</td>\n",
              "      <td>2</td>\n",
              "      <td>False</td>\n",
              "      <td>False</td>\n",
              "      <td>1897</td>\n",
              "      <td>article</td>\n",
              "      <td>PRI</td>\n",
              "    </tr>\n",
              "  </tbody>\n",
              "</table>\n",
              "</div>"
            ],
            "text/plain": [
              "                             doi      id gender  ...  year  articleType  journal\n",
              "3  10.1103/PhysRevSeriesI.16.279   59048   male  ...  1903      article      PRI\n",
              "4   10.1103/PhysRevSeriesI.5.294    9710   male  ...  1897      article      PRI\n",
              "6  10.1103/PhysRevSeriesI.27.225  159086   male  ...  1908      article      PRI\n",
              "7   10.1103/PhysRevSeriesI.4.314   29513   male  ...  1897      article      PRI\n",
              "8   10.1103/PhysRevSeriesI.5.152   29513   male  ...  1897      article      PRI\n",
              "\n",
              "[5 rows x 10 columns]"
            ]
          },
          "metadata": {
            "tags": []
          },
          "execution_count": 7
        }
      ]
    },
    {
      "cell_type": "code",
      "metadata": {
        "id": "ZEQFSUarDWEL",
        "colab_type": "code",
        "colab": {}
      },
      "source": [
        "plt.hist(np.log(np.unique(cb['cited_doi'].to_numpy(),return_counts=True)[1]), bins=100)"
      ],
      "execution_count": 0,
      "outputs": []
    },
    {
      "cell_type": "code",
      "metadata": {
        "id": "l7YzkuhF9iXB",
        "colab_type": "code",
        "outputId": "7affc259-2c66-483d-86ee-851ea8788931",
        "colab": {
          "base_uri": "https://localhost:8080/",
          "height": 35
        }
      },
      "source": [
        "cb['cited_doi'].nunique()"
      ],
      "execution_count": 0,
      "outputs": [
        {
          "output_type": "execute_result",
          "data": {
            "text/plain": [
              "357925"
            ]
          },
          "metadata": {
            "tags": []
          },
          "execution_count": 8
        }
      ]
    },
    {
      "cell_type": "code",
      "metadata": {
        "id": "pnhUvTIi7Id6",
        "colab_type": "code",
        "outputId": "474d649e-c25a-482a-9cac-848d353f38f8",
        "colab": {
          "base_uri": "https://localhost:8080/",
          "height": 225
        }
      },
      "source": [
        "vc = cb['cited_doi'].value_counts()\n",
        "# cb_sub = vc[vc.to_numpy() > 25].to_frame()\n",
        "cb_sub = vc[vc.to_numpy() > 0].to_frame()\n",
        "print(len(cb_sub))\n",
        "print(cb_sub[:10])"
      ],
      "execution_count": 0,
      "outputs": [
        {
          "output_type": "stream",
          "text": [
            "357925\n",
            "                             cited_doi\n",
            "10.1103/PhysRev.140.A1133         5214\n",
            "10.1103/PhysRev.136.B864          4100\n",
            "10.1103/PhysRevLett.77.3865       3015\n",
            "10.1103/PhysRevLett.45.566        2539\n",
            "10.1103/PhysRevB.13.5188          2519\n",
            "10.1103/PhysRevB.54.11169         2337\n",
            "10.1103/PhysRevB.41.7892          1895\n",
            "10.1103/PhysRevB.43.1993          1861\n",
            "10.1103/PhysRev.108.1175          1679\n",
            "10.1103/PhysRev.124.1866          1675\n"
          ],
          "name": "stdout"
        }
      ]
    },
    {
      "cell_type": "code",
      "metadata": {
        "id": "ybFaaNZr-acx",
        "colab_type": "code",
        "outputId": "c975c359-d622-4fb7-9a82-18288e1b7631",
        "colab": {
          "base_uri": "https://localhost:8080/",
          "height": 219
        }
      },
      "source": [
        "cited = pd.merge(cb_sub, na_p, left_index = True, right_on = 'doi')\n",
        "print(len(cited))\n",
        "cited.head()"
      ],
      "execution_count": 0,
      "outputs": [
        {
          "output_type": "stream",
          "text": [
            "128561\n"
          ],
          "name": "stdout"
        },
        {
          "output_type": "execute_result",
          "data": {
            "text/html": [
              "<div>\n",
              "<style scoped>\n",
              "    .dataframe tbody tr th:only-of-type {\n",
              "        vertical-align: middle;\n",
              "    }\n",
              "\n",
              "    .dataframe tbody tr th {\n",
              "        vertical-align: top;\n",
              "    }\n",
              "\n",
              "    .dataframe thead th {\n",
              "        text-align: right;\n",
              "    }\n",
              "</style>\n",
              "<table border=\"1\" class=\"dataframe\">\n",
              "  <thead>\n",
              "    <tr style=\"text-align: right;\">\n",
              "      <th></th>\n",
              "      <th>cited_doi</th>\n",
              "      <th>doi</th>\n",
              "      <th>id</th>\n",
              "      <th>gender</th>\n",
              "      <th>order</th>\n",
              "      <th>numAuthor</th>\n",
              "      <th>is_last</th>\n",
              "      <th>is_alpha</th>\n",
              "      <th>year</th>\n",
              "      <th>articleType</th>\n",
              "      <th>journal</th>\n",
              "    </tr>\n",
              "  </thead>\n",
              "  <tbody>\n",
              "    <tr>\n",
              "      <th>202497</th>\n",
              "      <td>3015</td>\n",
              "      <td>10.1103/PhysRevLett.77.3865</td>\n",
              "      <td>45056</td>\n",
              "      <td>male</td>\n",
              "      <td>1</td>\n",
              "      <td>3</td>\n",
              "      <td>False</td>\n",
              "      <td>False</td>\n",
              "      <td>1996</td>\n",
              "      <td>article</td>\n",
              "      <td>PRL</td>\n",
              "    </tr>\n",
              "    <tr>\n",
              "      <th>91441</th>\n",
              "      <td>2519</td>\n",
              "      <td>10.1103/PhysRevB.13.5188</td>\n",
              "      <td>133666</td>\n",
              "      <td>male</td>\n",
              "      <td>1</td>\n",
              "      <td>2</td>\n",
              "      <td>False</td>\n",
              "      <td>False</td>\n",
              "      <td>1976</td>\n",
              "      <td>article</td>\n",
              "      <td>PRB</td>\n",
              "    </tr>\n",
              "    <tr>\n",
              "      <th>40415</th>\n",
              "      <td>2337</td>\n",
              "      <td>10.1103/PhysRevB.54.11169</td>\n",
              "      <td>132752</td>\n",
              "      <td>male</td>\n",
              "      <td>1</td>\n",
              "      <td>2</td>\n",
              "      <td>False</td>\n",
              "      <td>False</td>\n",
              "      <td>1996</td>\n",
              "      <td>article</td>\n",
              "      <td>PRB</td>\n",
              "    </tr>\n",
              "    <tr>\n",
              "      <th>40521</th>\n",
              "      <td>1364</td>\n",
              "      <td>10.1103/PhysRevB.47.558</td>\n",
              "      <td>157378</td>\n",
              "      <td>male</td>\n",
              "      <td>1</td>\n",
              "      <td>2</td>\n",
              "      <td>False</td>\n",
              "      <td>False</td>\n",
              "      <td>1993</td>\n",
              "      <td>rapid</td>\n",
              "      <td>PRB</td>\n",
              "    </tr>\n",
              "    <tr>\n",
              "      <th>217426</th>\n",
              "      <td>1354</td>\n",
              "      <td>10.1103/RevModPhys.57.287</td>\n",
              "      <td>182905</td>\n",
              "      <td>male</td>\n",
              "      <td>1</td>\n",
              "      <td>2</td>\n",
              "      <td>False</td>\n",
              "      <td>False</td>\n",
              "      <td>1985</td>\n",
              "      <td>article</td>\n",
              "      <td>RMP</td>\n",
              "    </tr>\n",
              "  </tbody>\n",
              "</table>\n",
              "</div>"
            ],
            "text/plain": [
              "        cited_doi                          doi  ...  articleType journal\n",
              "202497       3015  10.1103/PhysRevLett.77.3865  ...      article     PRL\n",
              "91441        2519     10.1103/PhysRevB.13.5188  ...      article     PRB\n",
              "40415        2337    10.1103/PhysRevB.54.11169  ...      article     PRB\n",
              "40521        1364      10.1103/PhysRevB.47.558  ...        rapid     PRB\n",
              "217426       1354    10.1103/RevModPhys.57.287  ...      article     RMP\n",
              "\n",
              "[5 rows x 11 columns]"
            ]
          },
          "metadata": {
            "tags": []
          },
          "execution_count": 9
        }
      ]
    },
    {
      "cell_type": "code",
      "metadata": {
        "id": "CncuvNjcIdZ1",
        "colab_type": "code",
        "outputId": "8e680d7f-eb40-4608-ed91-504e446dd7d5",
        "colab": {
          "base_uri": "https://localhost:8080/",
          "height": 52
        }
      },
      "source": [
        "cited_m = cited[cited['gender'] == 'male']\n",
        "cited_fm = cited[cited['gender'] == 'female']\n",
        "\n",
        "print(len(cited_m))\n",
        "print(len(cited_fm))"
      ],
      "execution_count": 0,
      "outputs": [
        {
          "output_type": "stream",
          "text": [
            "118300\n",
            "10261\n"
          ],
          "name": "stdout"
        }
      ]
    },
    {
      "cell_type": "code",
      "metadata": {
        "id": "f7TLjIZMbOI5",
        "colab_type": "code",
        "colab": {}
      },
      "source": [
        "cited_ten = cited[:12856]\n",
        "print(len(cited_ten[cited_ten['gender'] == 'female']))\n",
        "\n",
        "cited_tw = cited[:25712]\n",
        "print(len(cited_tw[cited_tw['gender'] == 'female']))\n",
        "\n",
        "cited_th = cited[:38568]\n",
        "print(len(cited_th[cited_th['gender'] == 'female']))\n",
        "\n",
        "cited_fo = cited[:51424]\n",
        "print(len(cited_fo[cited_fo['gender'] == 'female']))"
      ],
      "execution_count": 0,
      "outputs": []
    },
    {
      "cell_type": "code",
      "metadata": {
        "id": "bdAlBxb1byZi",
        "colab_type": "code",
        "outputId": "011c50b7-8ee1-4d7f-9837-22050ddd88f5",
        "colab": {
          "base_uri": "https://localhost:8080/",
          "height": 295
        }
      },
      "source": [
        "plt.style.use('seaborn-deep')\n",
        "\n",
        "x = cited_m['cited_doi']\n",
        "y = cited_fm['cited_doi']\n",
        "\n",
        "bins = np.linspace(0, 500, 50)\n",
        "\n",
        "plt.hist([x, y], bins, label=['male', 'female'], color=('blue','orange'))\n",
        "plt.yscale('log')\n",
        "plt.legend(loc='upper right')\n",
        "plt.title(\"Distribution of Citation Count\")\n",
        "plt.xlabel('# of citation')\n",
        "plt.ylabel('count')\n",
        "# plt.xlim(xmin=0)\n",
        "plt.show()"
      ],
      "execution_count": 0,
      "outputs": [
        {
          "output_type": "display_data",
          "data": {
            "image/png": "[encoded data removed]",
            "text/plain": [
              "<Figure size 432x288 with 1 Axes>"
            ]
          },
          "metadata": {
            "tags": []
          }
        }
      ]
    },
    {
      "cell_type": "markdown",
      "metadata": {
        "id": "EQ2tBvqs3AFI",
        "colab_type": "text"
      },
      "source": [
        "## 4b. Frequently-cited Papers Analysis 2"
      ]
    },
    {
      "cell_type": "code",
      "metadata": {
        "id": "Xyvia6Kq3KlP",
        "colab_type": "code",
        "outputId": "35aac7d2-8c69-4b82-de27-2b9a01ba2424",
        "colab": {
          "base_uri": "https://localhost:8080/",
          "height": 198
        }
      },
      "source": [
        "na = data[data['is_alpha'] == False]\n",
        "na_p = na[na['order'] == 1]\n",
        "\n",
        "vc = cb['cited_doi'].value_counts()\n",
        "# cb_sub = vc[vc.to_numpy() > 25].to_frame()\n",
        "cb_sub = vc[vc.to_numpy() > 0].to_frame()\n",
        "\n",
        "cited = pd.merge(cb_sub, na_p, left_index = True, right_on = 'doi')\n",
        "\n",
        "cited_m = cited[cited['gender'] == 'male']\n",
        "cited_fm = cited[cited['gender'] == 'female']\n",
        "\n",
        "cited.head()"
      ],
      "execution_count": 0,
      "outputs": [
        {
          "output_type": "execute_result",
          "data": {
            "text/html": [
              "<div>\n",
              "<style scoped>\n",
              "    .dataframe tbody tr th:only-of-type {\n",
              "        vertical-align: middle;\n",
              "    }\n",
              "\n",
              "    .dataframe tbody tr th {\n",
              "        vertical-align: top;\n",
              "    }\n",
              "\n",
              "    .dataframe thead th {\n",
              "        text-align: right;\n",
              "    }\n",
              "</style>\n",
              "<table border=\"1\" class=\"dataframe\">\n",
              "  <thead>\n",
              "    <tr style=\"text-align: right;\">\n",
              "      <th></th>\n",
              "      <th>cited_doi</th>\n",
              "      <th>doi</th>\n",
              "      <th>id</th>\n",
              "      <th>gender</th>\n",
              "      <th>order</th>\n",
              "      <th>numAuthor</th>\n",
              "      <th>is_last</th>\n",
              "      <th>is_alpha</th>\n",
              "      <th>year</th>\n",
              "      <th>articleType</th>\n",
              "      <th>journal</th>\n",
              "    </tr>\n",
              "  </thead>\n",
              "  <tbody>\n",
              "    <tr>\n",
              "      <th>202497</th>\n",
              "      <td>3015</td>\n",
              "      <td>10.1103/PhysRevLett.77.3865</td>\n",
              "      <td>45056</td>\n",
              "      <td>male</td>\n",
              "      <td>1</td>\n",
              "      <td>3</td>\n",
              "      <td>False</td>\n",
              "      <td>False</td>\n",
              "      <td>1996</td>\n",
              "      <td>article</td>\n",
              "      <td>PRL</td>\n",
              "    </tr>\n",
              "    <tr>\n",
              "      <th>91441</th>\n",
              "      <td>2519</td>\n",
              "      <td>10.1103/PhysRevB.13.5188</td>\n",
              "      <td>133666</td>\n",
              "      <td>male</td>\n",
              "      <td>1</td>\n",
              "      <td>2</td>\n",
              "      <td>False</td>\n",
              "      <td>False</td>\n",
              "      <td>1976</td>\n",
              "      <td>article</td>\n",
              "      <td>PRB</td>\n",
              "    </tr>\n",
              "    <tr>\n",
              "      <th>40415</th>\n",
              "      <td>2337</td>\n",
              "      <td>10.1103/PhysRevB.54.11169</td>\n",
              "      <td>132752</td>\n",
              "      <td>male</td>\n",
              "      <td>1</td>\n",
              "      <td>2</td>\n",
              "      <td>False</td>\n",
              "      <td>False</td>\n",
              "      <td>1996</td>\n",
              "      <td>article</td>\n",
              "      <td>PRB</td>\n",
              "    </tr>\n",
              "    <tr>\n",
              "      <th>40521</th>\n",
              "      <td>1364</td>\n",
              "      <td>10.1103/PhysRevB.47.558</td>\n",
              "      <td>157378</td>\n",
              "      <td>male</td>\n",
              "      <td>1</td>\n",
              "      <td>2</td>\n",
              "      <td>False</td>\n",
              "      <td>False</td>\n",
              "      <td>1993</td>\n",
              "      <td>rapid</td>\n",
              "      <td>PRB</td>\n",
              "    </tr>\n",
              "    <tr>\n",
              "      <th>217426</th>\n",
              "      <td>1354</td>\n",
              "      <td>10.1103/RevModPhys.57.287</td>\n",
              "      <td>182905</td>\n",
              "      <td>male</td>\n",
              "      <td>1</td>\n",
              "      <td>2</td>\n",
              "      <td>False</td>\n",
              "      <td>False</td>\n",
              "      <td>1985</td>\n",
              "      <td>article</td>\n",
              "      <td>RMP</td>\n",
              "    </tr>\n",
              "  </tbody>\n",
              "</table>\n",
              "</div>"
            ],
            "text/plain": [
              "        cited_doi                          doi  ...  articleType journal\n",
              "202497       3015  10.1103/PhysRevLett.77.3865  ...      article     PRL\n",
              "91441        2519     10.1103/PhysRevB.13.5188  ...      article     PRB\n",
              "40415        2337    10.1103/PhysRevB.54.11169  ...      article     PRB\n",
              "40521        1364      10.1103/PhysRevB.47.558  ...        rapid     PRB\n",
              "217426       1354    10.1103/RevModPhys.57.287  ...      article     RMP\n",
              "\n",
              "[5 rows x 11 columns]"
            ]
          },
          "metadata": {
            "tags": []
          },
          "execution_count": 5
        }
      ]
    },
    {
      "cell_type": "code",
      "metadata": {
        "id": "-Yq60uEr4D4D",
        "colab_type": "code",
        "outputId": "67ebd1f1-1ee0-46a8-b517-e5b5fde9b6f0",
        "colab": {
          "base_uri": "https://localhost:8080/",
          "height": 35
        }
      },
      "source": [
        "cu = cited['cited_doi'].unique()\n",
        "print(len(cu))\n",
        "# cu.view()"
      ],
      "execution_count": 0,
      "outputs": [
        {
          "output_type": "stream",
          "text": [
            "395\n"
          ],
          "name": "stdout"
        }
      ]
    },
    {
      "cell_type": "code",
      "metadata": {
        "id": "KifkkkRv4kGi",
        "colab_type": "code",
        "outputId": "c92693ce-76cc-4a7d-a85e-e3ebcf4068d7",
        "colab": {
          "base_uri": "https://localhost:8080/",
          "height": 90
        }
      },
      "source": [
        "print(cu[38])\n",
        "print(cu[78])\n",
        "print(cu[117])\n",
        "print(cu[157])"
      ],
      "execution_count": 0,
      "outputs": [
        {
          "output_type": "stream",
          "text": [
            "511\n",
            "346\n",
            "288\n",
            "243\n"
          ],
          "name": "stdout"
        }
      ]
    },
    {
      "cell_type": "code",
      "metadata": {
        "id": "HqFR82_b46ag",
        "colab_type": "code",
        "outputId": "5be36e04-1e18-428d-9961-8e09122cd1b9",
        "colab": {
          "base_uri": "https://localhost:8080/",
          "height": 90
        }
      },
      "source": [
        "print(len(cited_m[cited_m['cited_doi'] >= 511]))\n",
        "print(len(cited_m[cited_m['cited_doi'] >= 346]))\n",
        "print(len(cited_m[cited_m['cited_doi'] >= 288]))\n",
        "print(len(cited_m[cited_m['cited_doi'] >= 243]))"
      ],
      "execution_count": 0,
      "outputs": [
        {
          "output_type": "stream",
          "text": [
            "39\n",
            "89\n",
            "149\n",
            "220\n"
          ],
          "name": "stdout"
        }
      ]
    },
    {
      "cell_type": "code",
      "metadata": {
        "id": "dueeDXCn5JNN",
        "colab_type": "code",
        "outputId": "5b9de3cc-5036-4d4a-f4bf-37cd5dc928a9",
        "colab": {
          "base_uri": "https://localhost:8080/",
          "height": 90
        }
      },
      "source": [
        "print(len(cited_fm[cited_fm['cited_doi'] >= 511]))\n",
        "print(len(cited_fm[cited_fm['cited_doi'] >= 346]))\n",
        "print(len(cited_fm[cited_fm['cited_doi'] >= 288]))\n",
        "print(len(cited_fm[cited_fm['cited_doi'] >= 243]))"
      ],
      "execution_count": 0,
      "outputs": [
        {
          "output_type": "stream",
          "text": [
            "1\n",
            "1\n",
            "3\n",
            "6\n"
          ],
          "name": "stdout"
        }
      ]
    },
    {
      "cell_type": "code",
      "metadata": {
        "id": "xSeUfs7XRUh2",
        "colab_type": "code",
        "outputId": "c4385b99-f0b8-4f0a-bf82-48046f434e1e",
        "colab": {
          "base_uri": "https://localhost:8080/",
          "height": 35
        }
      },
      "source": [
        "len(cited[cited['gender'] == 'female'])/len(cited)"
      ],
      "execution_count": 0,
      "outputs": [
        {
          "output_type": "execute_result",
          "data": {
            "text/plain": [
              "0.07981425160040759"
            ]
          },
          "metadata": {
            "tags": []
          },
          "execution_count": 10
        }
      ]
    },
    {
      "cell_type": "code",
      "metadata": {
        "id": "08stkpijQysM",
        "colab_type": "code",
        "outputId": "97e570eb-25f5-43d5-d9c2-f70b17e51383",
        "colab": {
          "base_uri": "https://localhost:8080/",
          "height": 313
        }
      },
      "source": [
        "cited_gender = cited['gender'].to_numpy()\n",
        "cumulate_cited_gender = np.cumsum(cited_gender == \"female\")\n",
        "\n",
        "plt.plot((np.arange(len(cited))*100)/len(cited), cumulate_cited_gender/np.arange(1, len(cited)+1), color='red')\n",
        "plt.axhline(y=0.07981425160040759, color='black', linestyle='dotted')\n",
        "\n",
        "plt.title(\"Proportion of Female Primary Authors per Citation Count\")\n",
        "plt.xlabel(\"Top k% Citation Count\")\n",
        "plt.ylim(ymax=0.1)\n",
        "plt.ylabel(\"Proportion of Female Primary Authors\")"
      ],
      "execution_count": 0,
      "outputs": [
        {
          "output_type": "execute_result",
          "data": {
            "text/plain": [
              "Text(0, 0.5, 'Proportion of Female Primary Authors')"
            ]
          },
          "metadata": {
            "tags": []
          },
          "execution_count": 11
        },
        {
          "output_type": "display_data",
          "data": {
            "image/png": "[encoded data removed]",
            "text/plain": [
              "<Figure size 432x288 with 1 Axes>"
            ]
          },
          "metadata": {
            "tags": []
          }
        }
      ]
    },
    {
      "cell_type": "markdown",
      "metadata": {
        "id": "EnGw0fr0xeG3",
        "colab_type": "text"
      },
      "source": [
        "## 5a. Self-citation Analysis (general)"
      ]
    },
    {
      "cell_type": "code",
      "metadata": {
        "id": "g39e_vK5mnfo",
        "colab_type": "code",
        "outputId": "3decb0b2-d35a-4b68-e148-8b2d9c80057c",
        "colab": {
          "base_uri": "https://localhost:8080/",
          "height": 52
        }
      },
      "source": [
        "print(len(cdata[cdata['citing_gender']=='male']))\n",
        "print(len(cdata[cdata['citing_gender']=='female']))"
      ],
      "execution_count": 0,
      "outputs": [
        {
          "output_type": "stream",
          "text": [
            "8516293\n",
            "867925\n"
          ],
          "name": "stdout"
        }
      ]
    },
    {
      "cell_type": "code",
      "metadata": {
        "id": "-IZ17CJWm6ey",
        "colab_type": "code",
        "outputId": "e8e82a89-fd5d-4972-85d6-cbb560145a84",
        "colab": {
          "base_uri": "https://localhost:8080/",
          "height": 312
        }
      },
      "source": [
        "print(cdata['citing_id'].nunique())\n",
        "print(cdata[cdata['citing_gender']=='male'].nunique())\n",
        "print(cdata[cdata['citing_gender']=='female'].nunique())"
      ],
      "execution_count": 0,
      "outputs": [
        {
          "output_type": "stream",
          "text": [
            "68505\n",
            "citing_doi       243699\n",
            "citing_id         58888\n",
            "citing_gender         1\n",
            "cited_doi        214578\n",
            "cited_id          59501\n",
            "cited_gender          2\n",
            "is_alpha              2\n",
            "dtype: int64\n",
            "citing_doi        39634\n",
            "citing_id          9617\n",
            "citing_gender         1\n",
            "cited_doi        111940\n",
            "cited_id          43558\n",
            "cited_gender          2\n",
            "is_alpha              2\n",
            "dtype: int64\n"
          ],
          "name": "stdout"
        }
      ]
    },
    {
      "cell_type": "code",
      "metadata": {
        "id": "ZwIGsynhwhz5",
        "colab_type": "code",
        "outputId": "73dfc123-e1b6-4fb4-8685-7e46602d5d69",
        "colab": {
          "base_uri": "https://localhost:8080/",
          "height": 239
        }
      },
      "source": [
        "sc_list = cdata[cdata['citing_id'] == cdata['cited_id']]\n",
        "print(len(sc_list))\n",
        "sc_list.head()"
      ],
      "execution_count": 0,
      "outputs": [
        {
          "output_type": "stream",
          "text": [
            "564360\n"
          ],
          "name": "stdout"
        },
        {
          "output_type": "execute_result",
          "data": {
            "text/html": [
              "<div>\n",
              "<style scoped>\n",
              "    .dataframe tbody tr th:only-of-type {\n",
              "        vertical-align: middle;\n",
              "    }\n",
              "\n",
              "    .dataframe tbody tr th {\n",
              "        vertical-align: top;\n",
              "    }\n",
              "\n",
              "    .dataframe thead th {\n",
              "        text-align: right;\n",
              "    }\n",
              "</style>\n",
              "<table border=\"1\" class=\"dataframe\">\n",
              "  <thead>\n",
              "    <tr style=\"text-align: right;\">\n",
              "      <th></th>\n",
              "      <th>citing_doi</th>\n",
              "      <th>citing_id</th>\n",
              "      <th>citing_gender</th>\n",
              "      <th>citing_order</th>\n",
              "      <th>citing_numAuthor</th>\n",
              "      <th>citing_is_last</th>\n",
              "      <th>citing_is_alpha</th>\n",
              "      <th>citing_year</th>\n",
              "      <th>citing_articleType</th>\n",
              "      <th>citing_journal</th>\n",
              "      <th>citing_0</th>\n",
              "      <th>citing_1</th>\n",
              "      <th>citing_2</th>\n",
              "      <th>citing_3</th>\n",
              "      <th>citing_4</th>\n",
              "      <th>citing_5</th>\n",
              "      <th>citing_6</th>\n",
              "      <th>citing_7</th>\n",
              "      <th>citing_8</th>\n",
              "      <th>citing_9</th>\n",
              "      <th>citing_exceptions</th>\n",
              "      <th>cited_doi</th>\n",
              "      <th>cited_id</th>\n",
              "      <th>cited_gender</th>\n",
              "      <th>cited_order</th>\n",
              "      <th>cited_numAuthor</th>\n",
              "      <th>cited_is_last</th>\n",
              "      <th>cited_is_alpha</th>\n",
              "      <th>cited_year</th>\n",
              "      <th>cited_articleType</th>\n",
              "      <th>cited_journal</th>\n",
              "      <th>cited_0</th>\n",
              "      <th>cited_1</th>\n",
              "      <th>cited_2</th>\n",
              "      <th>cited_3</th>\n",
              "      <th>cited_4</th>\n",
              "      <th>cited_5</th>\n",
              "      <th>cited_6</th>\n",
              "      <th>cited_7</th>\n",
              "      <th>cited_8</th>\n",
              "      <th>cited_9</th>\n",
              "      <th>cited_exceptions</th>\n",
              "    </tr>\n",
              "  </thead>\n",
              "  <tbody>\n",
              "    <tr>\n",
              "      <th>0</th>\n",
              "      <td>10.1103/PhysRevSeriesI.17.267</td>\n",
              "      <td>127898</td>\n",
              "      <td>male</td>\n",
              "      <td>2</td>\n",
              "      <td>2</td>\n",
              "      <td>True</td>\n",
              "      <td>False</td>\n",
              "      <td>1903</td>\n",
              "      <td>article</td>\n",
              "      <td>PRI</td>\n",
              "      <td>False</td>\n",
              "      <td>False</td>\n",
              "      <td>False</td>\n",
              "      <td>False</td>\n",
              "      <td>False</td>\n",
              "      <td>False</td>\n",
              "      <td>False</td>\n",
              "      <td>False</td>\n",
              "      <td>False</td>\n",
              "      <td>False</td>\n",
              "      <td>[]</td>\n",
              "      <td>10.1103/PhysRevSeriesI.16.279</td>\n",
              "      <td>127898</td>\n",
              "      <td>male</td>\n",
              "      <td>2</td>\n",
              "      <td>2</td>\n",
              "      <td>True</td>\n",
              "      <td>False</td>\n",
              "      <td>1903</td>\n",
              "      <td>article</td>\n",
              "      <td>PRI</td>\n",
              "      <td>False</td>\n",
              "      <td>False</td>\n",
              "      <td>False</td>\n",
              "      <td>False</td>\n",
              "      <td>False</td>\n",
              "      <td>False</td>\n",
              "      <td>False</td>\n",
              "      <td>False</td>\n",
              "      <td>False</td>\n",
              "      <td>False</td>\n",
              "      <td>[]</td>\n",
              "    </tr>\n",
              "    <tr>\n",
              "      <th>4</th>\n",
              "      <td>10.1103/PhysRev.61.339</td>\n",
              "      <td>212227</td>\n",
              "      <td>male</td>\n",
              "      <td>2</td>\n",
              "      <td>2</td>\n",
              "      <td>True</td>\n",
              "      <td>False</td>\n",
              "      <td>1942</td>\n",
              "      <td>article</td>\n",
              "      <td>PR</td>\n",
              "      <td>False</td>\n",
              "      <td>False</td>\n",
              "      <td>False</td>\n",
              "      <td>False</td>\n",
              "      <td>False</td>\n",
              "      <td>False</td>\n",
              "      <td>False</td>\n",
              "      <td>False</td>\n",
              "      <td>False</td>\n",
              "      <td>False</td>\n",
              "      <td>[]</td>\n",
              "      <td>10.1103/PhysRev.59.575</td>\n",
              "      <td>212227</td>\n",
              "      <td>male</td>\n",
              "      <td>2</td>\n",
              "      <td>2</td>\n",
              "      <td>True</td>\n",
              "      <td>False</td>\n",
              "      <td>1941</td>\n",
              "      <td>article</td>\n",
              "      <td>PR</td>\n",
              "      <td>False</td>\n",
              "      <td>False</td>\n",
              "      <td>False</td>\n",
              "      <td>False</td>\n",
              "      <td>False</td>\n",
              "      <td>False</td>\n",
              "      <td>False</td>\n",
              "      <td>False</td>\n",
              "      <td>False</td>\n",
              "      <td>False</td>\n",
              "      <td>[]</td>\n",
              "    </tr>\n",
              "    <tr>\n",
              "      <th>5</th>\n",
              "      <td>10.1103/PhysRev.59.867</td>\n",
              "      <td>212227</td>\n",
              "      <td>male</td>\n",
              "      <td>2</td>\n",
              "      <td>2</td>\n",
              "      <td>True</td>\n",
              "      <td>False</td>\n",
              "      <td>1941</td>\n",
              "      <td>article</td>\n",
              "      <td>PR</td>\n",
              "      <td>False</td>\n",
              "      <td>False</td>\n",
              "      <td>False</td>\n",
              "      <td>False</td>\n",
              "      <td>False</td>\n",
              "      <td>False</td>\n",
              "      <td>False</td>\n",
              "      <td>False</td>\n",
              "      <td>False</td>\n",
              "      <td>False</td>\n",
              "      <td>[]</td>\n",
              "      <td>10.1103/PhysRev.59.575</td>\n",
              "      <td>212227</td>\n",
              "      <td>male</td>\n",
              "      <td>2</td>\n",
              "      <td>2</td>\n",
              "      <td>True</td>\n",
              "      <td>False</td>\n",
              "      <td>1941</td>\n",
              "      <td>article</td>\n",
              "      <td>PR</td>\n",
              "      <td>False</td>\n",
              "      <td>False</td>\n",
              "      <td>False</td>\n",
              "      <td>False</td>\n",
              "      <td>False</td>\n",
              "      <td>False</td>\n",
              "      <td>False</td>\n",
              "      <td>False</td>\n",
              "      <td>False</td>\n",
              "      <td>False</td>\n",
              "      <td>[]</td>\n",
              "    </tr>\n",
              "    <tr>\n",
              "      <th>14</th>\n",
              "      <td>10.1103/PhysRev.60.535</td>\n",
              "      <td>212227</td>\n",
              "      <td>male</td>\n",
              "      <td>2</td>\n",
              "      <td>2</td>\n",
              "      <td>True</td>\n",
              "      <td>False</td>\n",
              "      <td>1941</td>\n",
              "      <td>letter-to-editor</td>\n",
              "      <td>PR</td>\n",
              "      <td>False</td>\n",
              "      <td>False</td>\n",
              "      <td>False</td>\n",
              "      <td>False</td>\n",
              "      <td>False</td>\n",
              "      <td>False</td>\n",
              "      <td>False</td>\n",
              "      <td>False</td>\n",
              "      <td>False</td>\n",
              "      <td>False</td>\n",
              "      <td>[]</td>\n",
              "      <td>10.1103/PhysRev.59.575</td>\n",
              "      <td>212227</td>\n",
              "      <td>male</td>\n",
              "      <td>2</td>\n",
              "      <td>2</td>\n",
              "      <td>True</td>\n",
              "      <td>False</td>\n",
              "      <td>1941</td>\n",
              "      <td>article</td>\n",
              "      <td>PR</td>\n",
              "      <td>False</td>\n",
              "      <td>False</td>\n",
              "      <td>False</td>\n",
              "      <td>False</td>\n",
              "      <td>False</td>\n",
              "      <td>False</td>\n",
              "      <td>False</td>\n",
              "      <td>False</td>\n",
              "      <td>False</td>\n",
              "      <td>False</td>\n",
              "      <td>[]</td>\n",
              "    </tr>\n",
              "    <tr>\n",
              "      <th>88</th>\n",
              "      <td>10.1103/PhysRev.92.1367</td>\n",
              "      <td>9374</td>\n",
              "      <td>male</td>\n",
              "      <td>1</td>\n",
              "      <td>2</td>\n",
              "      <td>False</td>\n",
              "      <td>False</td>\n",
              "      <td>1953</td>\n",
              "      <td>article</td>\n",
              "      <td>PR</td>\n",
              "      <td>False</td>\n",
              "      <td>False</td>\n",
              "      <td>False</td>\n",
              "      <td>False</td>\n",
              "      <td>False</td>\n",
              "      <td>False</td>\n",
              "      <td>False</td>\n",
              "      <td>False</td>\n",
              "      <td>False</td>\n",
              "      <td>False</td>\n",
              "      <td>[]</td>\n",
              "      <td>10.1103/PhysRev.91.174</td>\n",
              "      <td>9374</td>\n",
              "      <td>male</td>\n",
              "      <td>1</td>\n",
              "      <td>2</td>\n",
              "      <td>False</td>\n",
              "      <td>False</td>\n",
              "      <td>1953</td>\n",
              "      <td>article</td>\n",
              "      <td>PR</td>\n",
              "      <td>False</td>\n",
              "      <td>False</td>\n",
              "      <td>False</td>\n",
              "      <td>False</td>\n",
              "      <td>False</td>\n",
              "      <td>False</td>\n",
              "      <td>False</td>\n",
              "      <td>False</td>\n",
              "      <td>False</td>\n",
              "      <td>False</td>\n",
              "      <td>[]</td>\n",
              "    </tr>\n",
              "  </tbody>\n",
              "</table>\n",
              "</div>"
            ],
            "text/plain": [
              "                       citing_doi  citing_id  ... cited_9  cited_exceptions\n",
              "0   10.1103/PhysRevSeriesI.17.267     127898  ...   False                []\n",
              "4          10.1103/PhysRev.61.339     212227  ...   False                []\n",
              "5          10.1103/PhysRev.59.867     212227  ...   False                []\n",
              "14         10.1103/PhysRev.60.535     212227  ...   False                []\n",
              "88        10.1103/PhysRev.92.1367       9374  ...   False                []\n",
              "\n",
              "[5 rows x 42 columns]"
            ]
          },
          "metadata": {
            "tags": []
          },
          "execution_count": 42
        }
      ]
    },
    {
      "cell_type": "code",
      "metadata": {
        "id": "6wG9GvJBw0cO",
        "colab_type": "code",
        "outputId": "98b18667-2eed-4732-bb1b-b83d383098ff",
        "colab": {
          "base_uri": "https://localhost:8080/",
          "height": 52
        }
      },
      "source": [
        "sc_m = sc_list[sc_list['citing_gender'] == 'male']\n",
        "print(len(sc_m))\n",
        "\n",
        "sc_fm = sc_list[sc_list['citing_gender'] == 'female']\n",
        "print(len(sc_fm))"
      ],
      "execution_count": 0,
      "outputs": [
        {
          "output_type": "stream",
          "text": [
            "524788\n",
            "39572\n"
          ],
          "name": "stdout"
        }
      ]
    },
    {
      "cell_type": "code",
      "metadata": {
        "id": "yIMqtuPQi6Sr",
        "colab_type": "code",
        "outputId": "0a50c85b-6cb3-4d1f-e6c3-b859a7aad3b1",
        "colab": {
          "base_uri": "https://localhost:8080/",
          "height": 295
        }
      },
      "source": [
        "plt.style.use('seaborn-deep')\n",
        "\n",
        "x = sc_m['citing_id'].value_counts()\n",
        "y = sc_fm['citing_id'].value_counts()\n",
        "bins = np.linspace(0, 2100, 50)\n",
        "\n",
        "plt.hist([x, y], bins, label=['male', 'female'], color=('blue','orange'))\n",
        "plt.yscale('log')\n",
        "plt.legend(loc='upper right')\n",
        "plt.title('Self-citation Distribution of APS authors')\n",
        "plt.xlabel('Self-citation')\n",
        "plt.ylabel('log(count)')\n",
        "plt.show()"
      ],
      "execution_count": 0,
      "outputs": [
        {
          "output_type": "display_data",
          "data": {
            "image/png": "[encoded data removed]",
            "text/plain": [
              "<Figure size 432x288 with 1 Axes>"
            ]
          },
          "metadata": {
            "tags": []
          }
        }
      ]
    },
    {
      "cell_type": "code",
      "metadata": {
        "id": "M8eOpf2-hCK3",
        "colab_type": "code",
        "outputId": "170a0309-5f33-4e50-fdf0-98c75ce6a5d3",
        "colab": {
          "base_uri": "https://localhost:8080/",
          "height": 295
        }
      },
      "source": [
        "plt.style.use('seaborn-deep')\n",
        "\n",
        "x = sc_m['citing_id'].value_counts()\n",
        "y = sc_fm['citing_id'].value_counts()\n",
        "bins = np.linspace(0, 500, 50)\n",
        "\n",
        "plt.hist([x, y], bins, label=['male', 'female'], color=('blue','orange'))\n",
        "plt.yscale('log')\n",
        "plt.legend(loc='upper right')\n",
        "plt.title('Self-citation Distribution of APS authors')\n",
        "plt.xlabel('Self-citation')\n",
        "plt.ylabel('log(count)')\n",
        "plt.show()"
      ],
      "execution_count": 0,
      "outputs": [
        {
          "output_type": "display_data",
          "data": {
            "image/png": "[encoded data removed]",
            "text/plain": [
              "<Figure size 432x288 with 1 Axes>"
            ]
          },
          "metadata": {
            "tags": []
          }
        }
      ]
    },
    {
      "cell_type": "code",
      "metadata": {
        "id": "W-c0_hxfxDCl",
        "colab_type": "code",
        "outputId": "7b4488bd-db5d-4bbb-a794-09bad95aab97",
        "colab": {
          "base_uri": "https://localhost:8080/",
          "height": 52
        }
      },
      "source": [
        "print(sc_m['citing_id'].nunique())\n",
        "print(sc_fm['citing_id'].nunique())"
      ],
      "execution_count": 0,
      "outputs": [
        {
          "output_type": "stream",
          "text": [
            "31987\n",
            "4083\n"
          ],
          "name": "stdout"
        }
      ]
    },
    {
      "cell_type": "code",
      "metadata": {
        "id": "S8l9DMdd9ExU",
        "colab_type": "code",
        "outputId": "6da8fbda-5e1f-4ef6-9972-7e3fb0689402",
        "colab": {
          "base_uri": "https://localhost:8080/",
          "height": 295
        }
      },
      "source": [
        "# CDF\n",
        "\n",
        "import statsmodels.api as sm\n",
        "\n",
        "sample = sc_m['citing_id'].value_counts()\n",
        "ecdf = sm.distributions.ECDF(sample)\n",
        "\n",
        "x = np.linspace(min(sample), max(sample))\n",
        "y = ecdf(x)\n",
        "plt.plot(x,y)\n",
        "\n",
        "sample_2 = sc_fm['citing_id'].value_counts()\n",
        "ecdf = sm.distributions.ECDF(sample_2)\n",
        "\n",
        "x_2 = np.linspace(min(sample_2), max(sample_2))\n",
        "y_2 = ecdf(x_2)\n",
        "plt.plot(x_2,y_2, color='orange')\n",
        "\n",
        "plt.title('Self-citation Cumulative Distribution of APS authors')\n",
        "plt.legend(('male', 'female'), loc='lower right')\n",
        "plt.xlabel('Self-citation')\n",
        "plt.xlim(0,100)\n",
        "plt.ylabel('Cumulative Probability')\n",
        "# plt.ylim(0,0.35)\n",
        "plt.show()"
      ],
      "execution_count": 0,
      "outputs": [
        {
          "output_type": "display_data",
          "data": {
            "image/png": "[encoded data removed]",
            "text/plain": [
              "<Figure size 432x288 with 1 Axes>"
            ]
          },
          "metadata": {
            "tags": []
          }
        }
      ]
    },
    {
      "cell_type": "markdown",
      "metadata": {
        "id": "BtdgXWkTSIuA",
        "colab_type": "text"
      },
      "source": [
        "## 5b. Self-citation Analysis (by year)"
      ]
    },
    {
      "cell_type": "code",
      "metadata": {
        "id": "_XTSJzbuAh8h",
        "colab_type": "code",
        "colab": {}
      },
      "source": [
        "sc_list = cdata[cdata['citing_id'] == cdata['cited_id']]\n",
        "sc_m = sc_list[sc_list['citing_gender'] == 'male']\n",
        "sc_fm = sc_list[sc_list['citing_gender'] == 'female']\n",
        "\n",
        "msc = sc_m.groupby(['citing_year'])['citing_year'].count()\n",
        "fmsc = sc_fm.groupby(['citing_year'])['citing_year'].count()\n",
        "\n",
        "n_m = len(sc_m)\n",
        "n_fm = len(sc_fm)"
      ],
      "execution_count": 0,
      "outputs": []
    },
    {
      "cell_type": "code",
      "metadata": {
        "id": "IbMqjMEWwHDU",
        "colab_type": "code",
        "outputId": "dbc0bef5-c865-47e8-ee49-393510722f91",
        "colab": {
          "base_uri": "https://localhost:8080/",
          "height": 469
        }
      },
      "source": [
        "cdata_m = cdata[cdata['citing_gender'] == 'male']\n",
        "cdata_fm = cdata[cdata['citing_gender'] == 'female']\n",
        "\n",
        "mcdata = cdata_m.groupby(['citing_year'])['citing_year'].count()\n",
        "fmcdata = cdata_fm.groupby(['citing_year'])['citing_year'].count()\n",
        "\n",
        "(msc/mcdata).plot(style='.-')\n",
        "(fmsc/fmcdata).plot(style='.-',color='orange')\n",
        "\n",
        "plt.title('Self-citation Ratio by Year')\n",
        "plt.legend(('male', 'female'), loc='upper right')\n",
        "plt.xlabel('Year')\n",
        "plt.xlim(xmin=1950)\n",
        "plt.ylabel('% of Self-citation')\n",
        "plt.ylim(ymin=0, ymax=0.15)"
      ],
      "execution_count": 0,
      "outputs": [
        {
          "output_type": "stream",
          "text": [
            "/usr/local/lib/python3.6/dist-packages/matplotlib/axes/_base.py:3215: MatplotlibDeprecationWarning: \n",
            "The `xmin` argument was deprecated in Matplotlib 3.0 and will be removed in 3.2. Use `left` instead.\n",
            "  alternative='`left`', obj_type='argument')\n",
            "/usr/local/lib/python3.6/dist-packages/matplotlib/axes/_base.py:3604: MatplotlibDeprecationWarning: \n",
            "The `ymin` argument was deprecated in Matplotlib 3.0 and will be removed in 3.2. Use `bottom` instead.\n",
            "  alternative='`bottom`', obj_type='argument')\n",
            "/usr/local/lib/python3.6/dist-packages/matplotlib/axes/_base.py:3610: MatplotlibDeprecationWarning: \n",
            "The `ymax` argument was deprecated in Matplotlib 3.0 and will be removed in 3.2. Use `top` instead.\n",
            "  alternative='`top`', obj_type='argument')\n"
          ],
          "name": "stderr"
        },
        {
          "output_type": "execute_result",
          "data": {
            "text/plain": [
              "(0, 0.15)"
            ]
          },
          "metadata": {
            "tags": []
          },
          "execution_count": 198
        },
        {
          "output_type": "display_data",
          "data": {
            "image/png": "[encoded data removed]",
            "text/plain": [
              "<Figure size 432x288 with 1 Axes>"
            ]
          },
          "metadata": {
            "tags": []
          }
        }
      ]
    },
    {
      "cell_type": "code",
      "metadata": {
        "id": "qpFEb3JuwSFZ",
        "colab_type": "code",
        "outputId": "ca6998f8-7946-497e-cd6e-a2a0bdc89d7c",
        "colab": {
          "base_uri": "https://localhost:8080/",
          "height": 469
        }
      },
      "source": [
        "cdatacit = cdata.groupby(['citing_year'])['citing_year'].count()\n",
        "cdatacit[np.isnan(cdatacit)] = 0\n",
        "\n",
        "mcdata = cdata_m.groupby(['citing_year'])['citing_year'].count()\n",
        "mcdata[np.isnan(mcdata)] = 0\n",
        "fmcdata = cdata_fm.groupby(['citing_year'])['citing_year'].count()\n",
        "fmcdata[np.isnan(fmcdata)] = 0\n",
        "\n",
        "sccit = sc_list.groupby(['citing_year'])['citing_year'].count()\n",
        "sccit[np.isnan(sccit)] = 0\n",
        "\n",
        "msc = sc_m.groupby(['citing_year'])['citing_year'].count()\n",
        "msc[np.isnan(msc)] = 0\n",
        "fmsc = sc_fm.groupby(['citing_year'])['citing_year'].count()\n",
        "fmsc[np.isnan(fmsc)] = 0\n",
        "\n",
        "k1 = ((msc/sccit)/(fmsc/sccit))\n",
        "k2 = ((fmcdata/cdatacit)/(mcdata/cdatacit))\n",
        "\n",
        "k = k1*k2\n",
        "\n",
        "k.plot(style='.-', color='red')\n",
        "\n",
        "plt.title('k value by Year')\n",
        "plt.xlabel('Year')\n",
        "plt.xlim(xmin=1960)\n",
        "# plt.ylabel('k')\n",
        "plt.ylim(ymin=0.5,ymax=2.5)\n",
        "plt.hlines(1,xmin=1903,xmax=2009,linestyles='dashed')"
      ],
      "execution_count": 0,
      "outputs": [
        {
          "output_type": "stream",
          "text": [
            "/usr/local/lib/python3.6/dist-packages/matplotlib/axes/_base.py:3215: MatplotlibDeprecationWarning: \n",
            "The `xmin` argument was deprecated in Matplotlib 3.0 and will be removed in 3.2. Use `left` instead.\n",
            "  alternative='`left`', obj_type='argument')\n",
            "/usr/local/lib/python3.6/dist-packages/matplotlib/axes/_base.py:3604: MatplotlibDeprecationWarning: \n",
            "The `ymin` argument was deprecated in Matplotlib 3.0 and will be removed in 3.2. Use `bottom` instead.\n",
            "  alternative='`bottom`', obj_type='argument')\n",
            "/usr/local/lib/python3.6/dist-packages/matplotlib/axes/_base.py:3610: MatplotlibDeprecationWarning: \n",
            "The `ymax` argument was deprecated in Matplotlib 3.0 and will be removed in 3.2. Use `top` instead.\n",
            "  alternative='`top`', obj_type='argument')\n"
          ],
          "name": "stderr"
        },
        {
          "output_type": "execute_result",
          "data": {
            "text/plain": [
              "<matplotlib.collections.LineCollection at 0x7f0a1f71db70>"
            ]
          },
          "metadata": {
            "tags": []
          },
          "execution_count": 27
        },
        {
          "output_type": "display_data",
          "data": {
            "image/png": "[encoded data removed]",
            "text/plain": [
              "<Figure size 432x288 with 1 Axes>"
            ]
          },
          "metadata": {
            "tags": []
          }
        }
      ]
    },
    {
      "cell_type": "markdown",
      "metadata": {
        "id": "30cbBLlampqP",
        "colab_type": "text"
      },
      "source": [
        "## 5c. Self-citation Analysis (by Author Number)"
      ]
    },
    {
      "cell_type": "code",
      "metadata": {
        "id": "nKBiKDf3G7Kf",
        "colab_type": "code",
        "outputId": "7fdbca70-b1d8-4a8e-d6e3-0def2eaf9b51",
        "colab": {
          "base_uri": "https://localhost:8080/",
          "height": 69
        }
      },
      "source": [
        "cdata_m = cdata[cdata['citing_gender'] == 'male']\n",
        "cdata_fm = cdata[cdata['citing_gender'] == 'female']\n",
        "\n",
        "sc_list = cdata[cdata['citing_id'] == cdata['cited_id']]\n",
        "sc_m = sc_list[sc_list['citing_gender'] == 'male']\n",
        "sc_fm = sc_list[sc_list['citing_gender'] == 'female']"
      ],
      "execution_count": 0,
      "outputs": [
        {
          "output_type": "stream",
          "text": [
            "564360\n",
            "524788\n",
            "39572\n"
          ],
          "name": "stdout"
        }
      ]
    },
    {
      "cell_type": "code",
      "metadata": {
        "id": "31eaphH7nA6F",
        "colab_type": "code",
        "outputId": "c4137b52-fc76-455e-9c1e-3338235565c6",
        "colab": {
          "base_uri": "https://localhost:8080/",
          "height": 365
        }
      },
      "source": [
        "mcdata = cdata_m.groupby(['citing_numAuthor'])['citing_numAuthor'].count()\n",
        "fmcdata = cdata_fm.groupby(['citing_numAuthor'])['citing_numAuthor'].count()\n",
        "\n",
        "msc = sc_m.groupby(['citing_numAuthor'])['citing_numAuthor'].count()\n",
        "fmsc = sc_fm.groupby(['citing_numAuthor'])['citing_numAuthor'].count()\n",
        "\n",
        "(msc/mcdata).plot(style='.-')\n",
        "(fmsc/fmcdata).plot(style='.-',color='orange')\n",
        "\n",
        "plt.title('Self-citation by Author Number')\n",
        "plt.legend(('male', 'female'), loc='upper left')\n",
        "plt.xlabel('Author Number')\n",
        "plt.xlim(xmin=1)\n",
        "plt.ylabel('% Self-citation')"
      ],
      "execution_count": 0,
      "outputs": [
        {
          "output_type": "stream",
          "text": [
            "/usr/local/lib/python3.6/dist-packages/matplotlib/axes/_base.py:3215: MatplotlibDeprecationWarning: \n",
            "The `xmin` argument was deprecated in Matplotlib 3.0 and will be removed in 3.2. Use `left` instead.\n",
            "  alternative='`left`', obj_type='argument')\n"
          ],
          "name": "stderr"
        },
        {
          "output_type": "execute_result",
          "data": {
            "text/plain": [
              "Text(0, 0.5, '% Self-citation')"
            ]
          },
          "metadata": {
            "tags": []
          },
          "execution_count": 36
        },
        {
          "output_type": "display_data",
          "data": {
            "image/png": "[encoded data removed]",
            "text/plain": [
              "<Figure size 432x288 with 1 Axes>"
            ]
          },
          "metadata": {
            "tags": []
          }
        }
      ]
    },
    {
      "cell_type": "markdown",
      "metadata": {
        "id": "6ECkPN6be17s",
        "colab_type": "text"
      },
      "source": [
        "## 5d. Self-citation Analysis (by PACS & Year)"
      ]
    },
    {
      "cell_type": "code",
      "metadata": {
        "id": "5pUsV4BPyjgp",
        "colab_type": "code",
        "colab": {}
      },
      "source": [
        "cdata_m = cdata[cdata['citing_gender'] == 'male']\n",
        "cdata_fm = cdata[cdata['citing_gender'] == 'female']\n",
        "\n",
        "sc_list = cdata[cdata['citing_id'] == cdata['cited_id']]\n",
        "sc_m = sc_list[sc_list['citing_gender'] == 'male']\n",
        "sc_fm = sc_list[sc_list['citing_gender'] == 'female']"
      ],
      "execution_count": 0,
      "outputs": []
    },
    {
      "cell_type": "code",
      "metadata": {
        "id": "9T3yX1lIXAdp",
        "colab_type": "code",
        "colab": {}
      },
      "source": [
        "cdata_m_0 = cdata_m[cdata_m['citing_0'] == True]\n",
        "cdata_m_1 = cdata_m[cdata_m['citing_1'] == True]\n",
        "cdata_m_2 = cdata_m[cdata_m['citing_2'] == True]\n",
        "cdata_m_3 = cdata_m[cdata_m['citing_3'] == True]\n",
        "cdata_m_4 = cdata_m[cdata_m['citing_4'] == True]\n",
        "cdata_m_5 = cdata_m[cdata_m['citing_5'] == True]\n",
        "cdata_m_6 = cdata_m[cdata_m['citing_6'] == True]\n",
        "cdata_m_7 = cdata_m[cdata_m['citing_7'] == True]\n",
        "cdata_m_8 = cdata_m[cdata_m['citing_8'] == True]\n",
        "cdata_m_9 = cdata_m[cdata_m['citing_9'] == True]\n",
        "\n",
        "cdata_fm_0 = cdata_fm[cdata_fm['citing_0'] == True]\n",
        "cdata_fm_1 = cdata_fm[cdata_fm['citing_1'] == True]\n",
        "cdata_fm_2 = cdata_fm[cdata_fm['citing_2'] == True]\n",
        "cdata_fm_3 = cdata_fm[cdata_fm['citing_3'] == True]\n",
        "cdata_fm_4 = cdata_fm[cdata_fm['citing_4'] == True]\n",
        "cdata_fm_5 = cdata_fm[cdata_fm['citing_5'] == True]\n",
        "cdata_fm_6 = cdata_fm[cdata_fm['citing_6'] == True]\n",
        "cdata_fm_7 = cdata_fm[cdata_fm['citing_7'] == True]\n",
        "cdata_fm_8 = cdata_fm[cdata_fm['citing_8'] == True]\n",
        "cdata_fm_9 = cdata_fm[cdata_fm['citing_9'] == True]\n",
        "\n",
        "sc_m_0 = sc_m[sc_m['citing_0'] == True]\n",
        "sc_m_1 = sc_m[sc_m['citing_1'] == True]\n",
        "sc_m_2 = sc_m[sc_m['citing_2'] == True]\n",
        "sc_m_3 = sc_m[sc_m['citing_3'] == True]\n",
        "sc_m_4 = sc_m[sc_m['citing_4'] == True]\n",
        "sc_m_5 = sc_m[sc_m['citing_5'] == True]\n",
        "sc_m_6 = sc_m[sc_m['citing_6'] == True]\n",
        "sc_m_7 = sc_m[sc_m['citing_7'] == True]\n",
        "sc_m_8 = sc_m[sc_m['citing_8'] == True]\n",
        "sc_m_9 = sc_m[sc_m['citing_9'] == True]\n",
        "\n",
        "sc_fm_0 = sc_fm[sc_fm['citing_0'] == True]\n",
        "sc_fm_1 = sc_fm[sc_fm['citing_1'] == True]\n",
        "sc_fm_2 = sc_fm[sc_fm['citing_2'] == True]\n",
        "sc_fm_3 = sc_fm[sc_fm['citing_3'] == True]\n",
        "sc_fm_4 = sc_fm[sc_fm['citing_4'] == True]\n",
        "sc_fm_5 = sc_fm[sc_fm['citing_5'] == True]\n",
        "sc_fm_6 = sc_fm[sc_fm['citing_6'] == True]\n",
        "sc_fm_7 = sc_fm[sc_fm['citing_7'] == True]\n",
        "sc_fm_8 = sc_fm[sc_fm['citing_8'] == True]\n",
        "sc_fm_9 = sc_fm[sc_fm['citing_9'] == True]\n",
        "\n",
        "mcdata_0 = cdata_m_0.groupby(['citing_year'])['citing_year'].count()\n",
        "mcdata_1 = cdata_m_1.groupby(['citing_year'])['citing_year'].count()\n",
        "mcdata_2 = cdata_m_2.groupby(['citing_year'])['citing_year'].count()\n",
        "mcdata_3 = cdata_m_3.groupby(['citing_year'])['citing_year'].count()\n",
        "mcdata_4 = cdata_m_4.groupby(['citing_year'])['citing_year'].count()\n",
        "mcdata_5 = cdata_m_5.groupby(['citing_year'])['citing_year'].count()\n",
        "mcdata_6 = cdata_m_6.groupby(['citing_year'])['citing_year'].count()\n",
        "mcdata_7 = cdata_m_7.groupby(['citing_year'])['citing_year'].count()\n",
        "mcdata_8 = cdata_m_8.groupby(['citing_year'])['citing_year'].count()\n",
        "mcdata_9 = cdata_m_9.groupby(['citing_year'])['citing_year'].count()\n",
        "\n",
        "fmcdata_0 = cdata_fm_0.groupby(['citing_year'])['citing_year'].count()\n",
        "fmcdata_1 = cdata_fm_1.groupby(['citing_year'])['citing_year'].count()\n",
        "fmcdata_2 = cdata_fm_2.groupby(['citing_year'])['citing_year'].count()\n",
        "fmcdata_3 = cdata_fm_3.groupby(['citing_year'])['citing_year'].count()\n",
        "fmcdata_4 = cdata_fm_4.groupby(['citing_year'])['citing_year'].count()\n",
        "fmcdata_5 = cdata_fm_5.groupby(['citing_year'])['citing_year'].count()\n",
        "fmcdata_6 = cdata_fm_6.groupby(['citing_year'])['citing_year'].count()\n",
        "fmcdata_7 = cdata_fm_7.groupby(['citing_year'])['citing_year'].count()\n",
        "fmcdata_8 = cdata_fm_8.groupby(['citing_year'])['citing_year'].count()\n",
        "fmcdata_9 = cdata_fm_9.groupby(['citing_year'])['citing_year'].count()\n",
        "\n",
        "msc_0 = sc_m_0.groupby(['citing_year'])['citing_year'].count()\n",
        "msc_1 = sc_m_1.groupby(['citing_year'])['citing_year'].count()\n",
        "msc_2 = sc_m_2.groupby(['citing_year'])['citing_year'].count()\n",
        "msc_3 = sc_m_3.groupby(['citing_year'])['citing_year'].count()\n",
        "msc_4 = sc_m_4.groupby(['citing_year'])['citing_year'].count()\n",
        "msc_5 = sc_m_5.groupby(['citing_year'])['citing_year'].count()\n",
        "msc_6 = sc_m_6.groupby(['citing_year'])['citing_year'].count()\n",
        "msc_7 = sc_m_7.groupby(['citing_year'])['citing_year'].count()\n",
        "msc_8 = sc_m_8.groupby(['citing_year'])['citing_year'].count()\n",
        "msc_9 = sc_m_9.groupby(['citing_year'])['citing_year'].count()\n",
        "\n",
        "fmsc_0 = sc_fm_0.groupby(['citing_year'])['citing_year'].count()\n",
        "fmsc_1 = sc_fm_1.groupby(['citing_year'])['citing_year'].count()\n",
        "fmsc_2 = sc_fm_2.groupby(['citing_year'])['citing_year'].count()\n",
        "fmsc_3 = sc_fm_3.groupby(['citing_year'])['citing_year'].count()\n",
        "fmsc_4 = sc_fm_4.groupby(['citing_year'])['citing_year'].count()\n",
        "fmsc_5 = sc_fm_5.groupby(['citing_year'])['citing_year'].count()\n",
        "fmsc_6 = sc_fm_6.groupby(['citing_year'])['citing_year'].count()\n",
        "fmsc_7 = sc_fm_7.groupby(['citing_year'])['citing_year'].count()\n",
        "fmsc_8 = sc_fm_8.groupby(['citing_year'])['citing_year'].count()\n",
        "fmsc_9 = sc_fm_9.groupby(['citing_year'])['citing_year'].count()"
      ],
      "execution_count": 0,
      "outputs": []
    },
    {
      "cell_type": "code",
      "metadata": {
        "id": "11vxPXY4XUBr",
        "colab_type": "code",
        "outputId": "7706d3f3-df47-4382-b416-01105dc01939",
        "colab": {
          "base_uri": "https://localhost:8080/",
          "height": 417
        }
      },
      "source": [
        "(msc_0/mcdata_0).plot(style='.-')\n",
        "(fmsc_0/fmcdata_0).plot(style='.-',color='orange')\n",
        "\n",
        "plt.title('General Physics')\n",
        "plt.legend(('male', 'female'), loc='upper right')\n",
        "plt.xlabel('Year')\n",
        "# plt.xlim(xmin=1950)\n",
        "plt.ylabel('% of Self-citation')\n",
        "plt.ylim(ymin=0, ymax=0.2)"
      ],
      "execution_count": 0,
      "outputs": [
        {
          "output_type": "stream",
          "text": [
            "/usr/local/lib/python3.6/dist-packages/matplotlib/axes/_base.py:3604: MatplotlibDeprecationWarning: \n",
            "The `ymin` argument was deprecated in Matplotlib 3.0 and will be removed in 3.2. Use `bottom` instead.\n",
            "  alternative='`bottom`', obj_type='argument')\n",
            "/usr/local/lib/python3.6/dist-packages/matplotlib/axes/_base.py:3610: MatplotlibDeprecationWarning: \n",
            "The `ymax` argument was deprecated in Matplotlib 3.0 and will be removed in 3.2. Use `top` instead.\n",
            "  alternative='`top`', obj_type='argument')\n"
          ],
          "name": "stderr"
        },
        {
          "output_type": "execute_result",
          "data": {
            "text/plain": [
              "(0, 0.2)"
            ]
          },
          "metadata": {
            "tags": []
          },
          "execution_count": 71
        },
        {
          "output_type": "display_data",
          "data": {
            "image/png": "[encoded data removed]",
            "text/plain": [
              "<Figure size 432x288 with 1 Axes>"
            ]
          },
          "metadata": {
            "tags": []
          }
        }
      ]
    },
    {
      "cell_type": "code",
      "metadata": {
        "id": "Fn57Y1zEZhuQ",
        "colab_type": "code",
        "outputId": "a8227ff3-0008-441d-9319-d5785f9db3d0",
        "colab": {
          "base_uri": "https://localhost:8080/",
          "height": 417
        }
      },
      "source": [
        "(msc_1/mcdata_1).plot(style='.-')\n",
        "(fmsc_1/fmcdata_1).plot(style='.-',color='orange')\n",
        "\n",
        "plt.title('The Physics of Elementary Particles and Fields')\n",
        "plt.legend(('male', 'female'), loc='upper right')\n",
        "plt.xlabel('Year')\n",
        "# plt.xlim(xmin=1950)\n",
        "plt.ylabel('% of Self-citation')\n",
        "plt.ylim(ymin=0, ymax=0.2)"
      ],
      "execution_count": 0,
      "outputs": [
        {
          "output_type": "stream",
          "text": [
            "/usr/local/lib/python3.6/dist-packages/matplotlib/axes/_base.py:3604: MatplotlibDeprecationWarning: \n",
            "The `ymin` argument was deprecated in Matplotlib 3.0 and will be removed in 3.2. Use `bottom` instead.\n",
            "  alternative='`bottom`', obj_type='argument')\n",
            "/usr/local/lib/python3.6/dist-packages/matplotlib/axes/_base.py:3610: MatplotlibDeprecationWarning: \n",
            "The `ymax` argument was deprecated in Matplotlib 3.0 and will be removed in 3.2. Use `top` instead.\n",
            "  alternative='`top`', obj_type='argument')\n"
          ],
          "name": "stderr"
        },
        {
          "output_type": "execute_result",
          "data": {
            "text/plain": [
              "(0, 0.2)"
            ]
          },
          "metadata": {
            "tags": []
          },
          "execution_count": 72
        },
        {
          "output_type": "display_data",
          "data": {
            "image/png": "[encoded data removed]",
            "text/plain": [
              "<Figure size 432x288 with 1 Axes>"
            ]
          },
          "metadata": {
            "tags": []
          }
        }
      ]
    },
    {
      "cell_type": "code",
      "metadata": {
        "id": "1-yWf4ESZiAm",
        "colab_type": "code",
        "outputId": "9f970f67-6618-4929-8e4a-a10c4e1986a4",
        "colab": {
          "base_uri": "https://localhost:8080/",
          "height": 417
        }
      },
      "source": [
        "(msc_2/mcdata_2).plot(style='.-')\n",
        "(fmsc_2/fmcdata_2).plot(style='.-',color='orange')\n",
        "\n",
        "plt.title('Nuclear Physics')\n",
        "plt.legend(('male', 'female'), loc='upper right')\n",
        "plt.xlabel('Year')\n",
        "# plt.xlim(xmin=1950)\n",
        "plt.ylabel('% of Self-citation')\n",
        "plt.ylim(ymin=0, ymax=0.2)"
      ],
      "execution_count": 0,
      "outputs": [
        {
          "output_type": "stream",
          "text": [
            "/usr/local/lib/python3.6/dist-packages/matplotlib/axes/_base.py:3604: MatplotlibDeprecationWarning: \n",
            "The `ymin` argument was deprecated in Matplotlib 3.0 and will be removed in 3.2. Use `bottom` instead.\n",
            "  alternative='`bottom`', obj_type='argument')\n",
            "/usr/local/lib/python3.6/dist-packages/matplotlib/axes/_base.py:3610: MatplotlibDeprecationWarning: \n",
            "The `ymax` argument was deprecated in Matplotlib 3.0 and will be removed in 3.2. Use `top` instead.\n",
            "  alternative='`top`', obj_type='argument')\n"
          ],
          "name": "stderr"
        },
        {
          "output_type": "execute_result",
          "data": {
            "text/plain": [
              "(0, 0.2)"
            ]
          },
          "metadata": {
            "tags": []
          },
          "execution_count": 74
        },
        {
          "output_type": "display_data",
          "data": {
            "image/png": "[encoded data removed]",
            "text/plain": [
              "<Figure size 432x288 with 1 Axes>"
            ]
          },
          "metadata": {
            "tags": []
          }
        }
      ]
    },
    {
      "cell_type": "code",
      "metadata": {
        "id": "w7Ko98d_ZiOS",
        "colab_type": "code",
        "outputId": "a0cd3c1c-b5d9-44b8-b210-3d6f42fd0909",
        "colab": {
          "base_uri": "https://localhost:8080/",
          "height": 417
        }
      },
      "source": [
        "(msc_3/mcdata_3).plot(style='.-')\n",
        "(fmsc_3/fmcdata_3).plot(style='.-',color='orange')\n",
        "\n",
        "plt.title('Atomic and Molecular Physics')\n",
        "plt.legend(('male', 'female'), loc='upper right')\n",
        "plt.xlabel('Year')\n",
        "# plt.xlim(xmin=1950)\n",
        "plt.ylabel('% of Self-citation')\n",
        "plt.ylim(ymin=0, ymax=0.2)"
      ],
      "execution_count": 0,
      "outputs": [
        {
          "output_type": "stream",
          "text": [
            "/usr/local/lib/python3.6/dist-packages/matplotlib/axes/_base.py:3604: MatplotlibDeprecationWarning: \n",
            "The `ymin` argument was deprecated in Matplotlib 3.0 and will be removed in 3.2. Use `bottom` instead.\n",
            "  alternative='`bottom`', obj_type='argument')\n",
            "/usr/local/lib/python3.6/dist-packages/matplotlib/axes/_base.py:3610: MatplotlibDeprecationWarning: \n",
            "The `ymax` argument was deprecated in Matplotlib 3.0 and will be removed in 3.2. Use `top` instead.\n",
            "  alternative='`top`', obj_type='argument')\n"
          ],
          "name": "stderr"
        },
        {
          "output_type": "execute_result",
          "data": {
            "text/plain": [
              "(0, 0.2)"
            ]
          },
          "metadata": {
            "tags": []
          },
          "execution_count": 75
        },
        {
          "output_type": "display_data",
          "data": {
            "image/png": "[encoded data removed]",
            "text/plain": [
              "<Figure size 432x288 with 1 Axes>"
            ]
          },
          "metadata": {
            "tags": []
          }
        }
      ]
    },
    {
      "cell_type": "code",
      "metadata": {
        "id": "1YmqhZ1HZibH",
        "colab_type": "code",
        "outputId": "bb3bbc3f-3ffd-4adc-d84d-83e02d5d3970",
        "colab": {
          "base_uri": "https://localhost:8080/",
          "height": 431
        }
      },
      "source": [
        "(msc_4/mcdata_4).plot(style='.-')\n",
        "(fmsc_4/fmcdata_4).plot(style='.-',color='orange')\n",
        "\n",
        "plt.title('Electromagnetism, Optics, Acoustics, Heat Transfer,\\n Classical Mechanics, and Fluid Dynamics')\n",
        "plt.legend(('male', 'female'), loc='upper right')\n",
        "plt.xlabel('Year')\n",
        "# plt.xlim(xmin=1950)\n",
        "plt.ylabel('% of Self-citation')\n",
        "plt.ylim(ymin=0, ymax=0.2)"
      ],
      "execution_count": 0,
      "outputs": [
        {
          "output_type": "stream",
          "text": [
            "/usr/local/lib/python3.6/dist-packages/matplotlib/axes/_base.py:3604: MatplotlibDeprecationWarning: \n",
            "The `ymin` argument was deprecated in Matplotlib 3.0 and will be removed in 3.2. Use `bottom` instead.\n",
            "  alternative='`bottom`', obj_type='argument')\n",
            "/usr/local/lib/python3.6/dist-packages/matplotlib/axes/_base.py:3610: MatplotlibDeprecationWarning: \n",
            "The `ymax` argument was deprecated in Matplotlib 3.0 and will be removed in 3.2. Use `top` instead.\n",
            "  alternative='`top`', obj_type='argument')\n"
          ],
          "name": "stderr"
        },
        {
          "output_type": "execute_result",
          "data": {
            "text/plain": [
              "(0, 0.2)"
            ]
          },
          "metadata": {
            "tags": []
          },
          "execution_count": 76
        },
        {
          "output_type": "display_data",
          "data": {
            "image/png": "[encoded data removed]",
            "text/plain": [
              "<Figure size 432x288 with 1 Axes>"
            ]
          },
          "metadata": {
            "tags": []
          }
        }
      ]
    },
    {
      "cell_type": "code",
      "metadata": {
        "id": "IhXqxbvHZinS",
        "colab_type": "code",
        "outputId": "77898f7c-03f5-4515-c556-91a884a6f992",
        "colab": {
          "base_uri": "https://localhost:8080/",
          "height": 417
        }
      },
      "source": [
        "(msc_5/mcdata_5).plot(style='.-')\n",
        "(fmsc_5/fmcdata_5).plot(style='.-',color='orange')\n",
        "\n",
        "plt.title('Physics of Gases, Plasmas, and Electric Discharges')\n",
        "plt.legend(('male', 'female'), loc='upper right')\n",
        "plt.xlabel('Year')\n",
        "# plt.xlim(xmin=1950)\n",
        "plt.ylabel('% of Self-citation')\n",
        "plt.ylim(ymin=0, ymax=0.2)"
      ],
      "execution_count": 0,
      "outputs": [
        {
          "output_type": "stream",
          "text": [
            "/usr/local/lib/python3.6/dist-packages/matplotlib/axes/_base.py:3604: MatplotlibDeprecationWarning: \n",
            "The `ymin` argument was deprecated in Matplotlib 3.0 and will be removed in 3.2. Use `bottom` instead.\n",
            "  alternative='`bottom`', obj_type='argument')\n",
            "/usr/local/lib/python3.6/dist-packages/matplotlib/axes/_base.py:3610: MatplotlibDeprecationWarning: \n",
            "The `ymax` argument was deprecated in Matplotlib 3.0 and will be removed in 3.2. Use `top` instead.\n",
            "  alternative='`top`', obj_type='argument')\n"
          ],
          "name": "stderr"
        },
        {
          "output_type": "execute_result",
          "data": {
            "text/plain": [
              "(0, 0.2)"
            ]
          },
          "metadata": {
            "tags": []
          },
          "execution_count": 77
        },
        {
          "output_type": "display_data",
          "data": {
            "image/png": "[encoded data removed]",
            "text/plain": [
              "<Figure size 432x288 with 1 Axes>"
            ]
          },
          "metadata": {
            "tags": []
          }
        }
      ]
    },
    {
      "cell_type": "code",
      "metadata": {
        "id": "kU4kFM5dZiyj",
        "colab_type": "code",
        "outputId": "0f41b591-bb50-4c7b-80c0-dd08804472aa",
        "colab": {
          "base_uri": "https://localhost:8080/",
          "height": 431
        }
      },
      "source": [
        "(msc_6/mcdata_6).plot(style='.-')\n",
        "(fmsc_6/fmcdata_6).plot(style='.-',color='orange')\n",
        "\n",
        "plt.title('Condensed Matter: Structural, Mechanical,\\n and Thermal Properties')\n",
        "plt.legend(('male', 'female'), loc='upper right')\n",
        "plt.xlabel('Year')\n",
        "# plt.xlim(xmin=1950)\n",
        "plt.ylabel('% of Self-citation')\n",
        "plt.ylim(ymin=0, ymax=0.2)"
      ],
      "execution_count": 0,
      "outputs": [
        {
          "output_type": "stream",
          "text": [
            "/usr/local/lib/python3.6/dist-packages/matplotlib/axes/_base.py:3604: MatplotlibDeprecationWarning: \n",
            "The `ymin` argument was deprecated in Matplotlib 3.0 and will be removed in 3.2. Use `bottom` instead.\n",
            "  alternative='`bottom`', obj_type='argument')\n",
            "/usr/local/lib/python3.6/dist-packages/matplotlib/axes/_base.py:3610: MatplotlibDeprecationWarning: \n",
            "The `ymax` argument was deprecated in Matplotlib 3.0 and will be removed in 3.2. Use `top` instead.\n",
            "  alternative='`top`', obj_type='argument')\n"
          ],
          "name": "stderr"
        },
        {
          "output_type": "execute_result",
          "data": {
            "text/plain": [
              "(0, 0.2)"
            ]
          },
          "metadata": {
            "tags": []
          },
          "execution_count": 78
        },
        {
          "output_type": "display_data",
          "data": {
            "image/png": "[encoded data removed]",
            "text/plain": [
              "<Figure size 432x288 with 1 Axes>"
            ]
          },
          "metadata": {
            "tags": []
          }
        }
      ]
    },
    {
      "cell_type": "code",
      "metadata": {
        "id": "fFzclfbGZjA0",
        "colab_type": "code",
        "outputId": "69fefef7-b705-470f-d4a5-15701fa91cfa",
        "colab": {
          "base_uri": "https://localhost:8080/",
          "height": 431
        }
      },
      "source": [
        "(msc_7/mcdata_7).plot(style='.-')\n",
        "(fmsc_7/fmcdata_7).plot(style='.-',color='orange')\n",
        "\n",
        "plt.title('Condensed Matter: Electronic Structure, Electrical,\\n Magnetic, and Optical Properties')\n",
        "plt.legend(('male', 'female'), loc='upper right')\n",
        "plt.xlabel('Year')\n",
        "# plt.xlim(xmin=1950)\n",
        "plt.ylabel('% of Self-citation')\n",
        "plt.ylim(ymin=0, ymax=0.2)"
      ],
      "execution_count": 0,
      "outputs": [
        {
          "output_type": "stream",
          "text": [
            "/usr/local/lib/python3.6/dist-packages/matplotlib/axes/_base.py:3604: MatplotlibDeprecationWarning: \n",
            "The `ymin` argument was deprecated in Matplotlib 3.0 and will be removed in 3.2. Use `bottom` instead.\n",
            "  alternative='`bottom`', obj_type='argument')\n",
            "/usr/local/lib/python3.6/dist-packages/matplotlib/axes/_base.py:3610: MatplotlibDeprecationWarning: \n",
            "The `ymax` argument was deprecated in Matplotlib 3.0 and will be removed in 3.2. Use `top` instead.\n",
            "  alternative='`top`', obj_type='argument')\n"
          ],
          "name": "stderr"
        },
        {
          "output_type": "execute_result",
          "data": {
            "text/plain": [
              "(0, 0.2)"
            ]
          },
          "metadata": {
            "tags": []
          },
          "execution_count": 79
        },
        {
          "output_type": "display_data",
          "data": {
            "image/png": "[encoded data removed]",
            "text/plain": [
              "<Figure size 432x288 with 1 Axes>"
            ]
          },
          "metadata": {
            "tags": []
          }
        }
      ]
    },
    {
      "cell_type": "code",
      "metadata": {
        "id": "pzibgl7UZjOT",
        "colab_type": "code",
        "outputId": "6748d7d3-caa2-4d33-ab5c-1baeda72c71d",
        "colab": {
          "base_uri": "https://localhost:8080/",
          "height": 431
        }
      },
      "source": [
        "(msc_8/mcdata_8).plot(style='.-')\n",
        "(fmsc_8/fmcdata_8).plot(style='.-',color='orange')\n",
        "\n",
        "plt.title('Interdisciplinary Physics and Related Areas\\n of Science and Technology')\n",
        "plt.legend(('male', 'female'), loc='upper right')\n",
        "plt.xlabel('Year')\n",
        "# plt.xlim(xmin=1950)\n",
        "plt.ylabel('% of Self-citation')\n",
        "plt.ylim(ymin=0, ymax=0.2)"
      ],
      "execution_count": 0,
      "outputs": [
        {
          "output_type": "stream",
          "text": [
            "/usr/local/lib/python3.6/dist-packages/matplotlib/axes/_base.py:3604: MatplotlibDeprecationWarning: \n",
            "The `ymin` argument was deprecated in Matplotlib 3.0 and will be removed in 3.2. Use `bottom` instead.\n",
            "  alternative='`bottom`', obj_type='argument')\n",
            "/usr/local/lib/python3.6/dist-packages/matplotlib/axes/_base.py:3610: MatplotlibDeprecationWarning: \n",
            "The `ymax` argument was deprecated in Matplotlib 3.0 and will be removed in 3.2. Use `top` instead.\n",
            "  alternative='`top`', obj_type='argument')\n"
          ],
          "name": "stderr"
        },
        {
          "output_type": "execute_result",
          "data": {
            "text/plain": [
              "(0, 0.2)"
            ]
          },
          "metadata": {
            "tags": []
          },
          "execution_count": 82
        },
        {
          "output_type": "display_data",
          "data": {
            "image/png": "[encoded data removed]",
            "text/plain": [
              "<Figure size 432x288 with 1 Axes>"
            ]
          },
          "metadata": {
            "tags": []
          }
        }
      ]
    },
    {
      "cell_type": "code",
      "metadata": {
        "id": "4ACLs8MnZjaT",
        "colab_type": "code",
        "outputId": "b4d385c5-1ba9-4931-a0fb-77273c6dc3fc",
        "colab": {
          "base_uri": "https://localhost:8080/",
          "height": 417
        }
      },
      "source": [
        "(msc_9/mcdata_9).plot(style='.-')\n",
        "(fmsc_9/fmcdata_9).plot(style='.-',color='orange')\n",
        "\n",
        "plt.title('Geophysics, Astronomy, and Astrophysics')\n",
        "plt.legend(('male', 'female'), loc='upper right')\n",
        "plt.xlabel('Year')\n",
        "# plt.xlim(xmin=1950)\n",
        "plt.ylabel('% of Self-citation')\n",
        "plt.ylim(ymin=0, ymax=0.2)"
      ],
      "execution_count": 0,
      "outputs": [
        {
          "output_type": "stream",
          "text": [
            "/usr/local/lib/python3.6/dist-packages/matplotlib/axes/_base.py:3604: MatplotlibDeprecationWarning: \n",
            "The `ymin` argument was deprecated in Matplotlib 3.0 and will be removed in 3.2. Use `bottom` instead.\n",
            "  alternative='`bottom`', obj_type='argument')\n",
            "/usr/local/lib/python3.6/dist-packages/matplotlib/axes/_base.py:3610: MatplotlibDeprecationWarning: \n",
            "The `ymax` argument was deprecated in Matplotlib 3.0 and will be removed in 3.2. Use `top` instead.\n",
            "  alternative='`top`', obj_type='argument')\n"
          ],
          "name": "stderr"
        },
        {
          "output_type": "execute_result",
          "data": {
            "text/plain": [
              "(0, 0.2)"
            ]
          },
          "metadata": {
            "tags": []
          },
          "execution_count": 81
        },
        {
          "output_type": "display_data",
          "data": {
            "image/png": "[encoded data removed]",
            "text/plain": [
              "<Figure size 432x288 with 1 Axes>"
            ]
          },
          "metadata": {
            "tags": []
          }
        }
      ]
    },
    {
      "cell_type": "code",
      "metadata": {
        "id": "wFNUBJZ1lQgB",
        "colab_type": "code",
        "colab": {}
      },
      "source": [
        "del cdata_m_0\n",
        "del cdata_m_1\n",
        "del cdata_m_2\n",
        "del cdata_m_3\n",
        "del cdata_m_4\n",
        "del cdata_m_5\n",
        "del cdata_m_6\n",
        "del cdata_m_7\n",
        "del cdata_m_8\n",
        "del cdata_m_9\n",
        "\n",
        "del cdata_fm_0\n",
        "del cdata_fm_1\n",
        "del cdata_fm_2\n",
        "del cdata_fm_3\n",
        "del cdata_fm_4\n",
        "del cdata_fm_5\n",
        "del cdata_fm_6\n",
        "del cdata_fm_7\n",
        "del cdata_fm_8\n",
        "del cdata_fm_9\n",
        "\n",
        "del sc_m_0\n",
        "del sc_m_1\n",
        "del sc_m_2\n",
        "del sc_m_3\n",
        "del sc_m_4\n",
        "del sc_m_5\n",
        "del sc_m_6\n",
        "del sc_m_7\n",
        "del sc_m_8\n",
        "del sc_m_9\n",
        "\n",
        "del sc_fm_0\n",
        "del sc_fm_1\n",
        "del sc_fm_2\n",
        "del sc_fm_3\n",
        "del sc_fm_4\n",
        "del sc_fm_5\n",
        "del sc_fm_6\n",
        "del sc_fm_7\n",
        "del sc_fm_8\n",
        "del sc_fm_9\n",
        "\n",
        "del mcdata_0\n",
        "del mcdata_1\n",
        "del mcdata_2\n",
        "del mcdata_3\n",
        "del mcdata_4\n",
        "del mcdata_5\n",
        "del mcdata_6\n",
        "del mcdata_7\n",
        "del mcdata_8\n",
        "del mcdata_9\n",
        "\n",
        "del fmcdata_0\n",
        "del fmcdata_1\n",
        "del fmcdata_2\n",
        "del fmcdata_3\n",
        "del fmcdata_4\n",
        "del fmcdata_5\n",
        "del fmcdata_6\n",
        "del fmcdata_7\n",
        "del fmcdata_8\n",
        "del fmcdata_9\n",
        "\n",
        "del msc_0\n",
        "del msc_1\n",
        "del msc_2\n",
        "del msc_3\n",
        "del msc_4\n",
        "del msc_5\n",
        "del msc_6\n",
        "del msc_7\n",
        "del msc_8\n",
        "del msc_9\n",
        "\n",
        "del fmsc_0\n",
        "del fmsc_1\n",
        "del fmsc_2\n",
        "del fmsc_3\n",
        "del fmsc_4\n",
        "del fmsc_5\n",
        "del fmsc_6\n",
        "del fmsc_7\n",
        "del fmsc_8\n",
        "del fmsc_9"
      ],
      "execution_count": 0,
      "outputs": []
    },
    {
      "cell_type": "markdown",
      "metadata": {
        "colab_type": "text",
        "id": "DfrbUoNgQKVS"
      },
      "source": [
        "## 6 PageRank Centrality"
      ]
    },
    {
      "cell_type": "code",
      "metadata": {
        "colab_type": "code",
        "outputId": "696c3325-2815-4698-abcc-9818c21cc23a",
        "id": "gMf26naTQKS_",
        "colab": {
          "base_uri": "https://localhost:8080/",
          "height": 121
        }
      },
      "source": [
        "Graphtype = nx.DiGraph()\n",
        "\n",
        "C = nx.from_pandas_edgelist(cen, source='citing_doi', target='cited_doi', create_using=Graphtype)\n",
        "# print(nx.info(C))"
      ],
      "execution_count": 0,
      "outputs": [
        {
          "output_type": "stream",
          "text": [
            "Name: \n",
            "Type: DiGraph\n",
            "Number of nodes: 144813\n",
            "Number of edges: 703005\n",
            "Average in degree:   4.8546\n",
            "Average out degree:   4.8546\n"
          ],
          "name": "stdout"
        }
      ]
    },
    {
      "cell_type": "code",
      "metadata": {
        "colab_type": "code",
        "outputId": "a103cf24-71f0-442b-fe46-a67ba7782137",
        "id": "ihSavXoGQKS9",
        "colab": {
          "base_uri": "https://localhost:8080/",
          "height": 219
        }
      },
      "source": [
        "pr = nx.pagerank(C)\n",
        "print(len(pr))\n",
        "\n",
        "prs = pd.DataFrame()\n",
        "prs['doi'] = pr.keys()\n",
        "prs['centrality'] = pr.values()\n",
        "prs.head()"
      ],
      "execution_count": 0,
      "outputs": [
        {
          "output_type": "stream",
          "text": [
            "144813\n"
          ],
          "name": "stdout"
        },
        {
          "output_type": "execute_result",
          "data": {
            "text/html": [
              "<div>\n",
              "<style scoped>\n",
              "    .dataframe tbody tr th:only-of-type {\n",
              "        vertical-align: middle;\n",
              "    }\n",
              "\n",
              "    .dataframe tbody tr th {\n",
              "        vertical-align: top;\n",
              "    }\n",
              "\n",
              "    .dataframe thead th {\n",
              "        text-align: right;\n",
              "    }\n",
              "</style>\n",
              "<table border=\"1\" class=\"dataframe\">\n",
              "  <thead>\n",
              "    <tr style=\"text-align: right;\">\n",
              "      <th></th>\n",
              "      <th>doi</th>\n",
              "      <th>centrality</th>\n",
              "    </tr>\n",
              "  </thead>\n",
              "  <tbody>\n",
              "    <tr>\n",
              "      <th>0</th>\n",
              "      <td>10.1103/PhysRevB.1.3614</td>\n",
              "      <td>0.000002</td>\n",
              "    </tr>\n",
              "    <tr>\n",
              "      <th>1</th>\n",
              "      <td>10.1103/PhysRev.91.174</td>\n",
              "      <td>0.000078</td>\n",
              "    </tr>\n",
              "    <tr>\n",
              "      <th>2</th>\n",
              "      <td>10.1103/PhysRev.92.1367</td>\n",
              "      <td>0.000018</td>\n",
              "    </tr>\n",
              "    <tr>\n",
              "      <th>3</th>\n",
              "      <td>10.1103/RevModPhys.62.251</td>\n",
              "      <td>0.000305</td>\n",
              "    </tr>\n",
              "    <tr>\n",
              "      <th>4</th>\n",
              "      <td>10.1103/PhysRevA.10.1494</td>\n",
              "      <td>0.000040</td>\n",
              "    </tr>\n",
              "  </tbody>\n",
              "</table>\n",
              "</div>"
            ],
            "text/plain": [
              "                         doi  centrality\n",
              "0    10.1103/PhysRevB.1.3614    0.000002\n",
              "1     10.1103/PhysRev.91.174    0.000078\n",
              "2    10.1103/PhysRev.92.1367    0.000018\n",
              "3  10.1103/RevModPhys.62.251    0.000305\n",
              "4   10.1103/PhysRevA.10.1494    0.000040"
            ]
          },
          "metadata": {
            "tags": []
          },
          "execution_count": 48
        }
      ]
    },
    {
      "cell_type": "code",
      "metadata": {
        "colab_type": "code",
        "outputId": "c8f3c6e4-ac9d-4895-8433-4ba431b983ef",
        "id": "S4PP2OqqQKS6",
        "colab": {
          "base_uri": "https://localhost:8080/",
          "height": 202
        }
      },
      "source": [
        "nodedata = data[data['is_alpha'] == False]\n",
        "nodedata = nodedata[nodedata['order'] == 1]\n",
        "nodedata = nodedata.drop(['order', 'numAuthor',\t'is_last',\t'is_alpha',\t'year',\t'articleType',\t'journal', 'id'], axis=1)\n",
        "nodedata = nodedata.reset_index()\n",
        "nodedata.columns = ['id', 'Label', 'Gender']\n",
        "nodedata.head()\n",
        "\n",
        "prs = prs.merge(nodedata, left_on='doi', right_on='Label', how='left')\n",
        "prs = prs.drop(['doi', 'Label'], axis=1)\n",
        "prs = prs[['id', 'Gender', 'centrality']]\n",
        "\n",
        "prs.head()"
      ],
      "execution_count": 0,
      "outputs": [
        {
          "output_type": "execute_result",
          "data": {
            "text/html": [
              "<div>\n",
              "<style scoped>\n",
              "    .dataframe tbody tr th:only-of-type {\n",
              "        vertical-align: middle;\n",
              "    }\n",
              "\n",
              "    .dataframe tbody tr th {\n",
              "        vertical-align: top;\n",
              "    }\n",
              "\n",
              "    .dataframe thead th {\n",
              "        text-align: right;\n",
              "    }\n",
              "</style>\n",
              "<table border=\"1\" class=\"dataframe\">\n",
              "  <thead>\n",
              "    <tr style=\"text-align: right;\">\n",
              "      <th></th>\n",
              "      <th>id</th>\n",
              "      <th>Gender</th>\n",
              "      <th>centrality</th>\n",
              "    </tr>\n",
              "  </thead>\n",
              "  <tbody>\n",
              "    <tr>\n",
              "      <th>0</th>\n",
              "      <td>2327</td>\n",
              "      <td>female</td>\n",
              "      <td>0.000002</td>\n",
              "    </tr>\n",
              "    <tr>\n",
              "      <th>1</th>\n",
              "      <td>102128</td>\n",
              "      <td>male</td>\n",
              "      <td>0.000078</td>\n",
              "    </tr>\n",
              "    <tr>\n",
              "      <th>2</th>\n",
              "      <td>102129</td>\n",
              "      <td>male</td>\n",
              "      <td>0.000018</td>\n",
              "    </tr>\n",
              "    <tr>\n",
              "      <th>3</th>\n",
              "      <td>29386</td>\n",
              "      <td>male</td>\n",
              "      <td>0.000305</td>\n",
              "    </tr>\n",
              "    <tr>\n",
              "      <th>4</th>\n",
              "      <td>41171</td>\n",
              "      <td>male</td>\n",
              "      <td>0.000040</td>\n",
              "    </tr>\n",
              "  </tbody>\n",
              "</table>\n",
              "</div>"
            ],
            "text/plain": [
              "       id  Gender  centrality\n",
              "0    2327  female    0.000002\n",
              "1  102128    male    0.000078\n",
              "2  102129    male    0.000018\n",
              "3   29386    male    0.000305\n",
              "4   41171    male    0.000040"
            ]
          },
          "metadata": {
            "tags": []
          },
          "execution_count": 49
        }
      ]
    },
    {
      "cell_type": "code",
      "metadata": {
        "colab_type": "code",
        "outputId": "22af2323-fb23-4a71-e2cc-95c96375d682",
        "id": "j0aT50LyQKS3",
        "colab": {
          "base_uri": "https://localhost:8080/",
          "height": 295
        }
      },
      "source": [
        "prs_m = prs[prs['Gender'] == 'male']\n",
        "prs_fm = prs[prs['Gender'] == 'female']\n",
        "\n",
        "plt.style.use('seaborn-deep')\n",
        "bins = np.linspace(0, 0.0015, 50)\n",
        "\n",
        "plt.hist([prs_m['centrality'], prs_fm['centrality']], bins, label=['male', 'female'], color=['blue','orange'])\n",
        "\n",
        "plt.title(\"PageRank Centrality for Primary Authors\")\n",
        "plt.legend(loc='upper right')\n",
        "plt.xlabel('Centrality')\n",
        "plt.yscale('log')\n",
        "plt.ylabel('log(count)')\n",
        "plt.show()"
      ],
      "execution_count": 0,
      "outputs": [
        {
          "output_type": "display_data",
          "data": {
            "image/png": "[encoded data removed]",
            "text/plain": [
              "<Figure size 432x288 with 1 Axes>"
            ]
          },
          "metadata": {
            "tags": []
          }
        }
      ]
    },
    {
      "cell_type": "code",
      "metadata": {
        "colab_type": "code",
        "outputId": "4e440225-2aaf-4b64-cdf3-041386741c1f",
        "id": "B1AlXZxzQKSz",
        "colab": {
          "base_uri": "https://localhost:8080/",
          "height": 202
        }
      },
      "source": [
        "prs = prs.sort_values('centrality', ascending=False)\n",
        "prs.head()"
      ],
      "execution_count": 0,
      "outputs": [
        {
          "output_type": "execute_result",
          "data": {
            "text/html": [
              "<div>\n",
              "<style scoped>\n",
              "    .dataframe tbody tr th:only-of-type {\n",
              "        vertical-align: middle;\n",
              "    }\n",
              "\n",
              "    .dataframe tbody tr th {\n",
              "        vertical-align: top;\n",
              "    }\n",
              "\n",
              "    .dataframe thead th {\n",
              "        text-align: right;\n",
              "    }\n",
              "</style>\n",
              "<table border=\"1\" class=\"dataframe\">\n",
              "  <thead>\n",
              "    <tr style=\"text-align: right;\">\n",
              "      <th></th>\n",
              "      <th>id</th>\n",
              "      <th>Gender</th>\n",
              "      <th>centrality</th>\n",
              "    </tr>\n",
              "  </thead>\n",
              "  <tbody>\n",
              "    <tr>\n",
              "      <th>3189</th>\n",
              "      <td>43633</td>\n",
              "      <td>male</td>\n",
              "      <td>0.001368</td>\n",
              "    </tr>\n",
              "    <tr>\n",
              "      <th>25816</th>\n",
              "      <td>87360</td>\n",
              "      <td>male</td>\n",
              "      <td>0.001325</td>\n",
              "    </tr>\n",
              "    <tr>\n",
              "      <th>49819</th>\n",
              "      <td>187598</td>\n",
              "      <td>male</td>\n",
              "      <td>0.001062</td>\n",
              "    </tr>\n",
              "    <tr>\n",
              "      <th>54770</th>\n",
              "      <td>187575</td>\n",
              "      <td>male</td>\n",
              "      <td>0.000961</td>\n",
              "    </tr>\n",
              "    <tr>\n",
              "      <th>20116</th>\n",
              "      <td>91551</td>\n",
              "      <td>male</td>\n",
              "      <td>0.000918</td>\n",
              "    </tr>\n",
              "  </tbody>\n",
              "</table>\n",
              "</div>"
            ],
            "text/plain": [
              "           id Gender  centrality\n",
              "3189    43633   male    0.001368\n",
              "25816   87360   male    0.001325\n",
              "49819  187598   male    0.001062\n",
              "54770  187575   male    0.000961\n",
              "20116   91551   male    0.000918"
            ]
          },
          "metadata": {
            "tags": []
          },
          "execution_count": 52
        }
      ]
    },
    {
      "cell_type": "code",
      "metadata": {
        "colab_type": "code",
        "outputId": "6de32a9a-67d3-4956-992b-d95a94c754ff",
        "id": "vIGqV79MQKSw",
        "colab": {
          "base_uri": "https://localhost:8080/",
          "height": 313
        }
      },
      "source": [
        "prs_gender = prs['Gender'].to_numpy()\n",
        "cumulate_prs_gender = np.cumsum(prs_gender == \"female\")\n",
        "\n",
        "plt.plot((np.arange(len(prs))*100)/len(prs), cumulate_prs_gender/np.arange(1, len(prs)+1), color='red')\n",
        "plt.axhline(y=0.08274119036274367, color='black', linestyle='dotted')\n",
        "\n",
        "plt.title(\"Proportion of Female Primary Authors per Centrality\")\n",
        "plt.xlabel(\"top k% Centrality\")\n",
        "plt.ylim(ymax=0.1)\n",
        "plt.ylabel(\"Proportion of Female Primary Authors\")"
      ],
      "execution_count": 0,
      "outputs": [
        {
          "output_type": "execute_result",
          "data": {
            "text/plain": [
              "Text(0, 0.5, 'Proportion of Female Primary Authors')"
            ]
          },
          "metadata": {
            "tags": []
          },
          "execution_count": 127
        },
        {
          "output_type": "display_data",
          "data": {
            "image/png": "[encoded data removed]",
            "text/plain": [
              "<Figure size 432x288 with 1 Axes>"
            ]
          },
          "metadata": {
            "tags": []
          }
        }
      ]
    }
  ]
}